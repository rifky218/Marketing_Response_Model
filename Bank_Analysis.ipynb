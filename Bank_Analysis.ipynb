{
 "cells": [
  {
   "cell_type": "markdown",
   "metadata": {},
   "source": [
    "# IMPORT NECESSARY LIBRARY"
   ]
  },
  {
   "cell_type": "code",
   "execution_count": 1,
   "metadata": {},
   "outputs": [],
   "source": [
    "import pandas as pd\n",
    "import numpy as np\n",
    "\n",
    "import matplotlib.pyplot as plt\n",
    "import plotly\n",
    "import plotly.plotly as py\n",
    "import plotly.tools as tls\n",
    "from plotly.offline import download_plotlyjs, plot, iplot, init_notebook_mode\n",
    "import plotly.graph_objs as go\n",
    "\n",
    "import warnings\n",
    "warnings.filterwarnings('ignore')"
   ]
  },
  {
   "cell_type": "markdown",
   "metadata": {},
   "source": [
    "# 2. DATA UNDERSTANDING"
   ]
  },
  {
   "cell_type": "code",
   "execution_count": 6,
   "metadata": {
    "scrolled": true
   },
   "outputs": [
    {
     "data": {
      "text/plain": [
       "(41188, 21)"
      ]
     },
     "execution_count": 6,
     "metadata": {},
     "output_type": "execute_result"
    }
   ],
   "source": [
    "# Load the Data\n",
    "bank = pd.read_excel('bank.xlsx')\n",
    "\n",
    "# Check the number of rows and columns\n",
    "bank.shape"
   ]
  },
  {
   "cell_type": "code",
   "execution_count": 63,
   "metadata": {
    "scrolled": true
   },
   "outputs": [
    {
     "data": {
      "text/plain": [
       "age                 int64\n",
       "job                object\n",
       "marital            object\n",
       "education          object\n",
       "default            object\n",
       "housing            object\n",
       "loan               object\n",
       "contact            object\n",
       "month              object\n",
       "day_of_week        object\n",
       "duration            int64\n",
       "campaign            int64\n",
       "pdays               int64\n",
       "previous            int64\n",
       "poutcome           object\n",
       "emp.var.rate      float64\n",
       "cons.price.idx    float64\n",
       "cons.conf.idx     float64\n",
       "euribor3m         float64\n",
       "nr.employed       float64\n",
       "takers             object\n",
       "dtype: object"
      ]
     },
     "execution_count": 63,
     "metadata": {},
     "output_type": "execute_result"
    }
   ],
   "source": [
    "# Check Variable Types\n",
    "bank.dtypes"
   ]
  },
  {
   "cell_type": "code",
   "execution_count": 64,
   "metadata": {},
   "outputs": [
    {
     "data": {
      "text/html": [
       "<div>\n",
       "<style scoped>\n",
       "    .dataframe tbody tr th:only-of-type {\n",
       "        vertical-align: middle;\n",
       "    }\n",
       "\n",
       "    .dataframe tbody tr th {\n",
       "        vertical-align: top;\n",
       "    }\n",
       "\n",
       "    .dataframe thead th {\n",
       "        text-align: right;\n",
       "    }\n",
       "</style>\n",
       "<table border=\"1\" class=\"dataframe\">\n",
       "  <thead>\n",
       "    <tr style=\"text-align: right;\">\n",
       "      <th></th>\n",
       "      <th>age</th>\n",
       "      <th>duration</th>\n",
       "      <th>campaign</th>\n",
       "      <th>pdays</th>\n",
       "      <th>previous</th>\n",
       "      <th>emp.var.rate</th>\n",
       "      <th>cons.price.idx</th>\n",
       "      <th>cons.conf.idx</th>\n",
       "      <th>euribor3m</th>\n",
       "      <th>nr.employed</th>\n",
       "    </tr>\n",
       "  </thead>\n",
       "  <tbody>\n",
       "    <tr>\n",
       "      <th>count</th>\n",
       "      <td>41188.00000</td>\n",
       "      <td>41188.000000</td>\n",
       "      <td>41188.000000</td>\n",
       "      <td>41188.000000</td>\n",
       "      <td>41188.000000</td>\n",
       "      <td>41188.000000</td>\n",
       "      <td>41188.000000</td>\n",
       "      <td>41188.000000</td>\n",
       "      <td>41188.000000</td>\n",
       "      <td>41188.000000</td>\n",
       "    </tr>\n",
       "    <tr>\n",
       "      <th>mean</th>\n",
       "      <td>40.02406</td>\n",
       "      <td>258.285010</td>\n",
       "      <td>2.567593</td>\n",
       "      <td>962.475454</td>\n",
       "      <td>0.172963</td>\n",
       "      <td>-0.651739</td>\n",
       "      <td>85393.738007</td>\n",
       "      <td>-40.502600</td>\n",
       "      <td>3179.731503</td>\n",
       "      <td>1152.905917</td>\n",
       "    </tr>\n",
       "    <tr>\n",
       "      <th>std</th>\n",
       "      <td>10.42125</td>\n",
       "      <td>259.279249</td>\n",
       "      <td>2.770014</td>\n",
       "      <td>186.910907</td>\n",
       "      <td>0.494901</td>\n",
       "      <td>1.024870</td>\n",
       "      <td>26496.779264</td>\n",
       "      <td>4.628198</td>\n",
       "      <td>2087.262521</td>\n",
       "      <td>1946.082726</td>\n",
       "    </tr>\n",
       "    <tr>\n",
       "      <th>min</th>\n",
       "      <td>17.00000</td>\n",
       "      <td>0.000000</td>\n",
       "      <td>1.000000</td>\n",
       "      <td>0.000000</td>\n",
       "      <td>0.000000</td>\n",
       "      <td>-3.400000</td>\n",
       "      <td>3.876389</td>\n",
       "      <td>-50.800000</td>\n",
       "      <td>0.004861</td>\n",
       "      <td>206.795833</td>\n",
       "    </tr>\n",
       "    <tr>\n",
       "      <th>25%</th>\n",
       "      <td>32.00000</td>\n",
       "      <td>102.000000</td>\n",
       "      <td>1.000000</td>\n",
       "      <td>999.000000</td>\n",
       "      <td>0.000000</td>\n",
       "      <td>-1.800000</td>\n",
       "      <td>92893.000000</td>\n",
       "      <td>-42.700000</td>\n",
       "      <td>1281.000000</td>\n",
       "      <td>212.459028</td>\n",
       "    </tr>\n",
       "    <tr>\n",
       "      <th>50%</th>\n",
       "      <td>38.00000</td>\n",
       "      <td>180.000000</td>\n",
       "      <td>2.000000</td>\n",
       "      <td>999.000000</td>\n",
       "      <td>0.000000</td>\n",
       "      <td>0.042361</td>\n",
       "      <td>93749.000000</td>\n",
       "      <td>-41.800000</td>\n",
       "      <td>4856.000000</td>\n",
       "      <td>217.834028</td>\n",
       "    </tr>\n",
       "    <tr>\n",
       "      <th>75%</th>\n",
       "      <td>47.00000</td>\n",
       "      <td>319.000000</td>\n",
       "      <td>3.000000</td>\n",
       "      <td>999.000000</td>\n",
       "      <td>0.000000</td>\n",
       "      <td>0.044444</td>\n",
       "      <td>93994.000000</td>\n",
       "      <td>-36.400000</td>\n",
       "      <td>4961.000000</td>\n",
       "      <td>217.834028</td>\n",
       "    </tr>\n",
       "    <tr>\n",
       "      <th>max</th>\n",
       "      <td>98.00000</td>\n",
       "      <td>4918.000000</td>\n",
       "      <td>56.000000</td>\n",
       "      <td>999.000000</td>\n",
       "      <td>7.000000</td>\n",
       "      <td>0.044444</td>\n",
       "      <td>94767.000000</td>\n",
       "      <td>-26.900000</td>\n",
       "      <td>5045.000000</td>\n",
       "      <td>5191.000000</td>\n",
       "    </tr>\n",
       "  </tbody>\n",
       "</table>\n",
       "</div>"
      ],
      "text/plain": [
       "               age      duration      campaign         pdays      previous  \\\n",
       "count  41188.00000  41188.000000  41188.000000  41188.000000  41188.000000   \n",
       "mean      40.02406    258.285010      2.567593    962.475454      0.172963   \n",
       "std       10.42125    259.279249      2.770014    186.910907      0.494901   \n",
       "min       17.00000      0.000000      1.000000      0.000000      0.000000   \n",
       "25%       32.00000    102.000000      1.000000    999.000000      0.000000   \n",
       "50%       38.00000    180.000000      2.000000    999.000000      0.000000   \n",
       "75%       47.00000    319.000000      3.000000    999.000000      0.000000   \n",
       "max       98.00000   4918.000000     56.000000    999.000000      7.000000   \n",
       "\n",
       "       emp.var.rate  cons.price.idx  cons.conf.idx     euribor3m   nr.employed  \n",
       "count  41188.000000    41188.000000   41188.000000  41188.000000  41188.000000  \n",
       "mean      -0.651739    85393.738007     -40.502600   3179.731503   1152.905917  \n",
       "std        1.024870    26496.779264       4.628198   2087.262521   1946.082726  \n",
       "min       -3.400000        3.876389     -50.800000      0.004861    206.795833  \n",
       "25%       -1.800000    92893.000000     -42.700000   1281.000000    212.459028  \n",
       "50%        0.042361    93749.000000     -41.800000   4856.000000    217.834028  \n",
       "75%        0.044444    93994.000000     -36.400000   4961.000000    217.834028  \n",
       "max        0.044444    94767.000000     -26.900000   5045.000000   5191.000000  "
      ]
     },
     "execution_count": 64,
     "metadata": {},
     "output_type": "execute_result"
    }
   ],
   "source": [
    "# Descriptive Statistics of the data\n",
    "bank.describe()"
   ]
  },
  {
   "cell_type": "code",
   "execution_count": 67,
   "metadata": {},
   "outputs": [
    {
     "data": {
      "text/html": [
       "<div>\n",
       "<style scoped>\n",
       "    .dataframe tbody tr th:only-of-type {\n",
       "        vertical-align: middle;\n",
       "    }\n",
       "\n",
       "    .dataframe tbody tr th {\n",
       "        vertical-align: top;\n",
       "    }\n",
       "\n",
       "    .dataframe thead th {\n",
       "        text-align: right;\n",
       "    }\n",
       "</style>\n",
       "<table border=\"1\" class=\"dataframe\">\n",
       "  <thead>\n",
       "    <tr style=\"text-align: right;\">\n",
       "      <th></th>\n",
       "      <th>count_missing</th>\n",
       "      <th>percent_missing (%)</th>\n",
       "    </tr>\n",
       "  </thead>\n",
       "  <tbody>\n",
       "    <tr>\n",
       "      <th>age</th>\n",
       "      <td>0</td>\n",
       "      <td>0.0</td>\n",
       "    </tr>\n",
       "    <tr>\n",
       "      <th>job</th>\n",
       "      <td>0</td>\n",
       "      <td>0.0</td>\n",
       "    </tr>\n",
       "    <tr>\n",
       "      <th>marital</th>\n",
       "      <td>0</td>\n",
       "      <td>0.0</td>\n",
       "    </tr>\n",
       "    <tr>\n",
       "      <th>education</th>\n",
       "      <td>0</td>\n",
       "      <td>0.0</td>\n",
       "    </tr>\n",
       "    <tr>\n",
       "      <th>default</th>\n",
       "      <td>0</td>\n",
       "      <td>0.0</td>\n",
       "    </tr>\n",
       "    <tr>\n",
       "      <th>housing</th>\n",
       "      <td>0</td>\n",
       "      <td>0.0</td>\n",
       "    </tr>\n",
       "    <tr>\n",
       "      <th>loan</th>\n",
       "      <td>0</td>\n",
       "      <td>0.0</td>\n",
       "    </tr>\n",
       "    <tr>\n",
       "      <th>contact</th>\n",
       "      <td>0</td>\n",
       "      <td>0.0</td>\n",
       "    </tr>\n",
       "    <tr>\n",
       "      <th>month</th>\n",
       "      <td>0</td>\n",
       "      <td>0.0</td>\n",
       "    </tr>\n",
       "    <tr>\n",
       "      <th>day_of_week</th>\n",
       "      <td>0</td>\n",
       "      <td>0.0</td>\n",
       "    </tr>\n",
       "    <tr>\n",
       "      <th>duration</th>\n",
       "      <td>0</td>\n",
       "      <td>0.0</td>\n",
       "    </tr>\n",
       "    <tr>\n",
       "      <th>campaign</th>\n",
       "      <td>0</td>\n",
       "      <td>0.0</td>\n",
       "    </tr>\n",
       "    <tr>\n",
       "      <th>pdays</th>\n",
       "      <td>0</td>\n",
       "      <td>0.0</td>\n",
       "    </tr>\n",
       "    <tr>\n",
       "      <th>previous</th>\n",
       "      <td>0</td>\n",
       "      <td>0.0</td>\n",
       "    </tr>\n",
       "    <tr>\n",
       "      <th>poutcome</th>\n",
       "      <td>0</td>\n",
       "      <td>0.0</td>\n",
       "    </tr>\n",
       "    <tr>\n",
       "      <th>emp.var.rate</th>\n",
       "      <td>0</td>\n",
       "      <td>0.0</td>\n",
       "    </tr>\n",
       "    <tr>\n",
       "      <th>cons.price.idx</th>\n",
       "      <td>0</td>\n",
       "      <td>0.0</td>\n",
       "    </tr>\n",
       "    <tr>\n",
       "      <th>cons.conf.idx</th>\n",
       "      <td>0</td>\n",
       "      <td>0.0</td>\n",
       "    </tr>\n",
       "    <tr>\n",
       "      <th>euribor3m</th>\n",
       "      <td>0</td>\n",
       "      <td>0.0</td>\n",
       "    </tr>\n",
       "    <tr>\n",
       "      <th>nr.employed</th>\n",
       "      <td>0</td>\n",
       "      <td>0.0</td>\n",
       "    </tr>\n",
       "    <tr>\n",
       "      <th>takers</th>\n",
       "      <td>0</td>\n",
       "      <td>0.0</td>\n",
       "    </tr>\n",
       "  </tbody>\n",
       "</table>\n",
       "</div>"
      ],
      "text/plain": [
       "                count_missing  percent_missing (%)\n",
       "age                         0                  0.0\n",
       "job                         0                  0.0\n",
       "marital                     0                  0.0\n",
       "education                   0                  0.0\n",
       "default                     0                  0.0\n",
       "housing                     0                  0.0\n",
       "loan                        0                  0.0\n",
       "contact                     0                  0.0\n",
       "month                       0                  0.0\n",
       "day_of_week                 0                  0.0\n",
       "duration                    0                  0.0\n",
       "campaign                    0                  0.0\n",
       "pdays                       0                  0.0\n",
       "previous                    0                  0.0\n",
       "poutcome                    0                  0.0\n",
       "emp.var.rate                0                  0.0\n",
       "cons.price.idx              0                  0.0\n",
       "cons.conf.idx               0                  0.0\n",
       "euribor3m                   0                  0.0\n",
       "nr.employed                 0                  0.0\n",
       "takers                      0                  0.0"
      ]
     },
     "execution_count": 67,
     "metadata": {},
     "output_type": "execute_result"
    }
   ],
   "source": [
    "# Check Missing Values\n",
    "count_missing = bank.isnull().sum()\n",
    "percent_missing = round(bank.isnull().sum() * 100 / len(bank),2)\n",
    "missing_values_bank = pd.DataFrame({'count_missing' : count_missing,\n",
    "                                   'percent_missing (%)': percent_missing})\n",
    "missing_values_bank"
   ]
  },
  {
   "cell_type": "code",
   "execution_count": 68,
   "metadata": {},
   "outputs": [
    {
     "data": {
      "text/html": [
       "<div>\n",
       "<style scoped>\n",
       "    .dataframe tbody tr th:only-of-type {\n",
       "        vertical-align: middle;\n",
       "    }\n",
       "\n",
       "    .dataframe tbody tr th {\n",
       "        vertical-align: top;\n",
       "    }\n",
       "\n",
       "    .dataframe thead th {\n",
       "        text-align: right;\n",
       "    }\n",
       "</style>\n",
       "<table border=\"1\" class=\"dataframe\">\n",
       "  <thead>\n",
       "    <tr style=\"text-align: right;\">\n",
       "      <th></th>\n",
       "      <th>age</th>\n",
       "      <th>job</th>\n",
       "      <th>marital</th>\n",
       "      <th>education</th>\n",
       "      <th>default</th>\n",
       "      <th>housing</th>\n",
       "      <th>loan</th>\n",
       "      <th>contact</th>\n",
       "      <th>month</th>\n",
       "      <th>day_of_week</th>\n",
       "      <th>...</th>\n",
       "      <th>campaign</th>\n",
       "      <th>pdays</th>\n",
       "      <th>previous</th>\n",
       "      <th>poutcome</th>\n",
       "      <th>emp.var.rate</th>\n",
       "      <th>cons.price.idx</th>\n",
       "      <th>cons.conf.idx</th>\n",
       "      <th>euribor3m</th>\n",
       "      <th>nr.employed</th>\n",
       "      <th>takers</th>\n",
       "    </tr>\n",
       "  </thead>\n",
       "  <tbody>\n",
       "    <tr>\n",
       "      <th>0</th>\n",
       "      <td>56</td>\n",
       "      <td>housemaid</td>\n",
       "      <td>married</td>\n",
       "      <td>basic.4y</td>\n",
       "      <td>no</td>\n",
       "      <td>no</td>\n",
       "      <td>no</td>\n",
       "      <td>telephone</td>\n",
       "      <td>may</td>\n",
       "      <td>mon</td>\n",
       "      <td>...</td>\n",
       "      <td>1</td>\n",
       "      <td>999</td>\n",
       "      <td>0</td>\n",
       "      <td>nonexistent</td>\n",
       "      <td>0.042361</td>\n",
       "      <td>93994.0</td>\n",
       "      <td>-36.4</td>\n",
       "      <td>4857.0</td>\n",
       "      <td>5191.0</td>\n",
       "      <td>no</td>\n",
       "    </tr>\n",
       "    <tr>\n",
       "      <th>1</th>\n",
       "      <td>57</td>\n",
       "      <td>services</td>\n",
       "      <td>married</td>\n",
       "      <td>high.school</td>\n",
       "      <td>unknown</td>\n",
       "      <td>no</td>\n",
       "      <td>no</td>\n",
       "      <td>telephone</td>\n",
       "      <td>may</td>\n",
       "      <td>mon</td>\n",
       "      <td>...</td>\n",
       "      <td>1</td>\n",
       "      <td>999</td>\n",
       "      <td>0</td>\n",
       "      <td>nonexistent</td>\n",
       "      <td>0.042361</td>\n",
       "      <td>93994.0</td>\n",
       "      <td>-36.4</td>\n",
       "      <td>4857.0</td>\n",
       "      <td>5191.0</td>\n",
       "      <td>no</td>\n",
       "    </tr>\n",
       "    <tr>\n",
       "      <th>2</th>\n",
       "      <td>37</td>\n",
       "      <td>services</td>\n",
       "      <td>married</td>\n",
       "      <td>high.school</td>\n",
       "      <td>no</td>\n",
       "      <td>yes</td>\n",
       "      <td>no</td>\n",
       "      <td>telephone</td>\n",
       "      <td>may</td>\n",
       "      <td>mon</td>\n",
       "      <td>...</td>\n",
       "      <td>1</td>\n",
       "      <td>999</td>\n",
       "      <td>0</td>\n",
       "      <td>nonexistent</td>\n",
       "      <td>0.042361</td>\n",
       "      <td>93994.0</td>\n",
       "      <td>-36.4</td>\n",
       "      <td>4857.0</td>\n",
       "      <td>5191.0</td>\n",
       "      <td>no</td>\n",
       "    </tr>\n",
       "    <tr>\n",
       "      <th>3</th>\n",
       "      <td>40</td>\n",
       "      <td>admin.</td>\n",
       "      <td>married</td>\n",
       "      <td>basic.6y</td>\n",
       "      <td>no</td>\n",
       "      <td>no</td>\n",
       "      <td>no</td>\n",
       "      <td>telephone</td>\n",
       "      <td>may</td>\n",
       "      <td>mon</td>\n",
       "      <td>...</td>\n",
       "      <td>1</td>\n",
       "      <td>999</td>\n",
       "      <td>0</td>\n",
       "      <td>nonexistent</td>\n",
       "      <td>0.042361</td>\n",
       "      <td>93994.0</td>\n",
       "      <td>-36.4</td>\n",
       "      <td>4857.0</td>\n",
       "      <td>5191.0</td>\n",
       "      <td>no</td>\n",
       "    </tr>\n",
       "    <tr>\n",
       "      <th>4</th>\n",
       "      <td>56</td>\n",
       "      <td>services</td>\n",
       "      <td>married</td>\n",
       "      <td>high.school</td>\n",
       "      <td>no</td>\n",
       "      <td>no</td>\n",
       "      <td>yes</td>\n",
       "      <td>telephone</td>\n",
       "      <td>may</td>\n",
       "      <td>mon</td>\n",
       "      <td>...</td>\n",
       "      <td>1</td>\n",
       "      <td>999</td>\n",
       "      <td>0</td>\n",
       "      <td>nonexistent</td>\n",
       "      <td>0.042361</td>\n",
       "      <td>93994.0</td>\n",
       "      <td>-36.4</td>\n",
       "      <td>4857.0</td>\n",
       "      <td>5191.0</td>\n",
       "      <td>no</td>\n",
       "    </tr>\n",
       "  </tbody>\n",
       "</table>\n",
       "<p>5 rows × 21 columns</p>\n",
       "</div>"
      ],
      "text/plain": [
       "   age        job  marital    education  default housing loan    contact  \\\n",
       "0   56  housemaid  married     basic.4y       no      no   no  telephone   \n",
       "1   57   services  married  high.school  unknown      no   no  telephone   \n",
       "2   37   services  married  high.school       no     yes   no  telephone   \n",
       "3   40     admin.  married     basic.6y       no      no   no  telephone   \n",
       "4   56   services  married  high.school       no      no  yes  telephone   \n",
       "\n",
       "  month day_of_week   ...    campaign  pdays  previous     poutcome  \\\n",
       "0   may         mon   ...           1    999         0  nonexistent   \n",
       "1   may         mon   ...           1    999         0  nonexistent   \n",
       "2   may         mon   ...           1    999         0  nonexistent   \n",
       "3   may         mon   ...           1    999         0  nonexistent   \n",
       "4   may         mon   ...           1    999         0  nonexistent   \n",
       "\n",
       "  emp.var.rate  cons.price.idx  cons.conf.idx  euribor3m  nr.employed  takers  \n",
       "0     0.042361         93994.0          -36.4     4857.0       5191.0      no  \n",
       "1     0.042361         93994.0          -36.4     4857.0       5191.0      no  \n",
       "2     0.042361         93994.0          -36.4     4857.0       5191.0      no  \n",
       "3     0.042361         93994.0          -36.4     4857.0       5191.0      no  \n",
       "4     0.042361         93994.0          -36.4     4857.0       5191.0      no  \n",
       "\n",
       "[5 rows x 21 columns]"
      ]
     },
     "execution_count": 68,
     "metadata": {},
     "output_type": "execute_result"
    }
   ],
   "source": [
    "bank.head()"
   ]
  },
  {
   "cell_type": "markdown",
   "metadata": {},
   "source": [
    "# Data Exploration"
   ]
  },
  {
   "cell_type": "code",
   "execution_count": 40,
   "metadata": {},
   "outputs": [],
   "source": [
    "# For the EDA Visualization -> See the Tableau Files"
   ]
  },
  {
   "cell_type": "code",
   "execution_count": 110,
   "metadata": {
    "scrolled": false
   },
   "outputs": [
    {
     "data": {
      "text/html": [
       "<div>\n",
       "<style scoped>\n",
       "    .dataframe tbody tr th:only-of-type {\n",
       "        vertical-align: middle;\n",
       "    }\n",
       "\n",
       "    .dataframe tbody tr th {\n",
       "        vertical-align: top;\n",
       "    }\n",
       "\n",
       "    .dataframe thead th {\n",
       "        text-align: right;\n",
       "    }\n",
       "</style>\n",
       "<table border=\"1\" class=\"dataframe\">\n",
       "  <thead>\n",
       "    <tr style=\"text-align: right;\">\n",
       "      <th></th>\n",
       "      <th>count_outliers</th>\n",
       "      <th>percent_outliers (%)</th>\n",
       "    </tr>\n",
       "    <tr>\n",
       "      <th>column_name</th>\n",
       "      <th></th>\n",
       "      <th></th>\n",
       "    </tr>\n",
       "  </thead>\n",
       "  <tbody>\n",
       "    <tr>\n",
       "      <th>age</th>\n",
       "      <td>469</td>\n",
       "      <td>1.14</td>\n",
       "    </tr>\n",
       "    <tr>\n",
       "      <th>duration</th>\n",
       "      <td>2963</td>\n",
       "      <td>7.19</td>\n",
       "    </tr>\n",
       "    <tr>\n",
       "      <th>campaign</th>\n",
       "      <td>2406</td>\n",
       "      <td>5.84</td>\n",
       "    </tr>\n",
       "    <tr>\n",
       "      <th>pdays</th>\n",
       "      <td>1515</td>\n",
       "      <td>3.68</td>\n",
       "    </tr>\n",
       "    <tr>\n",
       "      <th>previous</th>\n",
       "      <td>5625</td>\n",
       "      <td>13.66</td>\n",
       "    </tr>\n",
       "    <tr>\n",
       "      <th>emp.var.rate</th>\n",
       "      <td>0</td>\n",
       "      <td>0.00</td>\n",
       "    </tr>\n",
       "    <tr>\n",
       "      <th>cons.price.idx</th>\n",
       "      <td>3616</td>\n",
       "      <td>8.78</td>\n",
       "    </tr>\n",
       "    <tr>\n",
       "      <th>cons.conf.idx</th>\n",
       "      <td>447</td>\n",
       "      <td>1.09</td>\n",
       "    </tr>\n",
       "    <tr>\n",
       "      <th>euribor3m</th>\n",
       "      <td>0</td>\n",
       "      <td>0.00</td>\n",
       "    </tr>\n",
       "    <tr>\n",
       "      <th>nr.employed</th>\n",
       "      <td>7763</td>\n",
       "      <td>18.85</td>\n",
       "    </tr>\n",
       "  </tbody>\n",
       "</table>\n",
       "</div>"
      ],
      "text/plain": [
       "                count_outliers  percent_outliers (%)\n",
       "column_name                                         \n",
       "age                        469                  1.14\n",
       "duration                  2963                  7.19\n",
       "campaign                  2406                  5.84\n",
       "pdays                     1515                  3.68\n",
       "previous                  5625                 13.66\n",
       "emp.var.rate                 0                  0.00\n",
       "cons.price.idx            3616                  8.78\n",
       "cons.conf.idx              447                  1.09\n",
       "euribor3m                    0                  0.00\n",
       "nr.employed               7763                 18.85"
      ]
     },
     "execution_count": 110,
     "metadata": {},
     "output_type": "execute_result"
    }
   ],
   "source": [
    "Q1 = bank.quantile(0.25)\n",
    "Q3 = bank.quantile(0.75)\n",
    "IQR = Q3 - Q1\n",
    "\n",
    "count_outliers=[sum((bank['age'] < (Q1['age'] - 1.5 * IQR['age'])) | (bank['age'] > (Q3['age'] + 1.5 * IQR['age']))),\n",
    "                sum((bank['duration'] < (Q1['duration'] - 1.5 * IQR['duration'])) | (bank['duration'] > (Q3['duration'] + 1.5 * IQR['duration']))),\n",
    "                sum((bank['campaign'] < (Q1['campaign'] - 1.5 * IQR['campaign'])) | (bank['campaign'] > (Q3['campaign'] + 1.5 * IQR['campaign']))),\n",
    "                sum((bank['pdays'] < (Q1['pdays'] - 1.5 * IQR['pdays'])) | (bank['pdays'] > (Q3['pdays'] + 1.5 * IQR['pdays']))),\n",
    "                sum((bank['previous'] < (Q1['previous'] - 1.5 * IQR['previous'])) | (bank['previous'] > (Q3['previous'] + 1.5 * IQR['previous']))),\n",
    "                sum((bank['emp.var.rate'] < (Q1['emp.var.rate'] - 1.5 * IQR['emp.var.rate'])) | (bank['emp.var.rate'] > (Q3['emp.var.rate'] + 1.5 * IQR['emp.var.rate']))),\n",
    "                sum((bank['cons.price.idx'] < (Q1['cons.price.idx'] - 1.5 * IQR['cons.price.idx'])) | (bank['cons.price.idx'] > (Q3['cons.price.idx'] + 1.5 * IQR['cons.price.idx']))),\n",
    "                sum((bank['cons.conf.idx'] < (Q1['cons.conf.idx'] - 1.5 * IQR['cons.conf.idx'])) | (bank['cons.conf.idx'] > (Q3['cons.conf.idx'] + 1.5 * IQR['cons.conf.idx']))),\n",
    "                sum((bank['euribor3m'] < (Q1['euribor3m'] - 1.5 * IQR['euribor3m'])) | (bank['euribor3m'] > (Q3['euribor3m'] + 1.5 * IQR['euribor3m']))),\n",
    "                sum((bank['nr.employed'] < (Q1['nr.employed'] - 1.5 * IQR['nr.employed'])) | (bank['nr.employed'] > (Q3['nr.employed'] + 1.5 * IQR['nr.employed'])))]\n",
    "\n",
    "percent_outliers=[round(sum((bank['age'] < (Q1['age'] - 1.5 * IQR['age'])) | (bank['age'] > (Q3['age'] + 1.5 * IQR['age'])))/len(bank)*100,2),\n",
    "                  round(sum((bank['duration'] < (Q1['duration'] - 1.5 * IQR['duration'])) | (bank['duration'] > (Q3['duration'] + 1.5 * IQR['duration'])))/len(bank)*100,2),\n",
    "                  round(sum((bank['campaign'] < (Q1['campaign'] - 1.5 * IQR['campaign'])) | (bank['campaign'] > (Q3['campaign'] + 1.5 * IQR['campaign'])))/len(bank)*100,2),\n",
    "                  round(sum((bank['pdays'] < (Q1['pdays'] - 1.5 * IQR['pdays'])) | (bank['pdays'] > (Q3['pdays'] + 1.5 * IQR['pdays'])))/len(bank)*100,2),\n",
    "                  round(sum((bank['previous'] < (Q1['previous'] - 1.5 * IQR['previous'])) | (bank['previous'] > (Q3['previous'] + 1.5 * IQR['previous'])))/len(bank)*100,2),\n",
    "                  round(sum((bank['emp.var.rate'] < (Q1['emp.var.rate'] - 1.5 * IQR['emp.var.rate'])) | (bank['emp.var.rate'] > (Q3['emp.var.rate'] + 1.5 * IQR['emp.var.rate'])))/len(bank)*100,2),\n",
    "                  round(sum((bank['cons.price.idx'] < (Q1['cons.price.idx'] - 1.5 * IQR['cons.price.idx'])) | (bank['cons.price.idx'] > (Q3['cons.price.idx'] + 1.5 * IQR['cons.price.idx'])))/len(bank)*100,2),\n",
    "                  round(sum((bank['cons.conf.idx'] < (Q1['cons.conf.idx'] - 1.5 * IQR['cons.conf.idx'])) | (bank['cons.conf.idx'] > (Q3['cons.conf.idx'] + 1.5 * IQR['cons.conf.idx'])))/len(bank)*100,2),\n",
    "                  round(sum((bank['euribor3m'] < (Q1['euribor3m'] - 1.5 * IQR['euribor3m'])) | (bank['euribor3m'] > (Q3['euribor3m'] + 1.5 * IQR['euribor3m'])))/len(bank)*100,2),\n",
    "                  round(sum((bank['nr.employed'] < (Q1['nr.employed'] - 1.5 * IQR['nr.employed'])) | (bank['nr.employed'] > (Q3['nr.employed'] + 1.5 * IQR['nr.employed'])))/len(bank)*100,2)]\n",
    "\n",
    "outliers_value_bank = pd.DataFrame({'column_name': pd.DataFrame(Q1).index,\n",
    "                                   'count_outliers': count_outliers,\n",
    "                                   'percent_outliers (%)': percent_outliers})\n",
    "outliers_value_bank = outliers_value_bank.set_index('column_name')\n",
    "outliers_value_bank"
   ]
  },
  {
   "cell_type": "markdown",
   "metadata": {},
   "source": [
    "# 3. Data Preparation"
   ]
  },
  {
   "cell_type": "code",
   "execution_count": 7,
   "metadata": {},
   "outputs": [
    {
     "data": {
      "text/plain": [
       "(39673, 21)"
      ]
     },
     "execution_count": 7,
     "metadata": {},
     "output_type": "execute_result"
    }
   ],
   "source": [
    "# Select Items (Rows) - Exclude pdays outside 999\n",
    "bank = bank[bank['pdays']==999]\n",
    "\n",
    "# Check the number of rows and columns\n",
    "bank.shape"
   ]
  },
  {
   "cell_type": "code",
   "execution_count": 8,
   "metadata": {},
   "outputs": [
    {
     "data": {
      "text/plain": [
       "(39673, 19)"
      ]
     },
     "execution_count": 8,
     "metadata": {},
     "output_type": "execute_result"
    }
   ],
   "source": [
    "# Drop Columns\n",
    "del bank['pdays']\n",
    "del bank['duration']\n",
    "\n",
    "# Check the number of rows and columns\n",
    "bank.shape"
   ]
  },
  {
   "cell_type": "code",
   "execution_count": 9,
   "metadata": {},
   "outputs": [],
   "source": [
    "# Remove Missing Values\n",
    "bank = bank[bank['marital']!='unknown']\n",
    "bank = bank[bank['education']!='unknown']\n",
    "bank = bank[bank['housing']!='unknown']\n",
    "bank = bank[bank['loan']!='unknown']"
   ]
  },
  {
   "cell_type": "code",
   "execution_count": 10,
   "metadata": {
    "scrolled": false
   },
   "outputs": [
    {
     "data": {
      "text/html": [
       "<div>\n",
       "<style scoped>\n",
       "    .dataframe tbody tr th:only-of-type {\n",
       "        vertical-align: middle;\n",
       "    }\n",
       "\n",
       "    .dataframe tbody tr th {\n",
       "        vertical-align: top;\n",
       "    }\n",
       "\n",
       "    .dataframe thead th {\n",
       "        text-align: right;\n",
       "    }\n",
       "</style>\n",
       "<table border=\"1\" class=\"dataframe\">\n",
       "  <thead>\n",
       "    <tr style=\"text-align: right;\">\n",
       "      <th></th>\n",
       "      <th>count_missing</th>\n",
       "      <th>percent_missing (%)</th>\n",
       "    </tr>\n",
       "  </thead>\n",
       "  <tbody>\n",
       "    <tr>\n",
       "      <th>age</th>\n",
       "      <td>0</td>\n",
       "      <td>0.0</td>\n",
       "    </tr>\n",
       "    <tr>\n",
       "      <th>job</th>\n",
       "      <td>0</td>\n",
       "      <td>0.0</td>\n",
       "    </tr>\n",
       "    <tr>\n",
       "      <th>marital</th>\n",
       "      <td>0</td>\n",
       "      <td>0.0</td>\n",
       "    </tr>\n",
       "    <tr>\n",
       "      <th>education</th>\n",
       "      <td>0</td>\n",
       "      <td>0.0</td>\n",
       "    </tr>\n",
       "    <tr>\n",
       "      <th>default</th>\n",
       "      <td>0</td>\n",
       "      <td>0.0</td>\n",
       "    </tr>\n",
       "    <tr>\n",
       "      <th>housing</th>\n",
       "      <td>0</td>\n",
       "      <td>0.0</td>\n",
       "    </tr>\n",
       "    <tr>\n",
       "      <th>loan</th>\n",
       "      <td>0</td>\n",
       "      <td>0.0</td>\n",
       "    </tr>\n",
       "    <tr>\n",
       "      <th>contact</th>\n",
       "      <td>0</td>\n",
       "      <td>0.0</td>\n",
       "    </tr>\n",
       "    <tr>\n",
       "      <th>month</th>\n",
       "      <td>0</td>\n",
       "      <td>0.0</td>\n",
       "    </tr>\n",
       "    <tr>\n",
       "      <th>day_of_week</th>\n",
       "      <td>0</td>\n",
       "      <td>0.0</td>\n",
       "    </tr>\n",
       "    <tr>\n",
       "      <th>campaign</th>\n",
       "      <td>0</td>\n",
       "      <td>0.0</td>\n",
       "    </tr>\n",
       "    <tr>\n",
       "      <th>previous</th>\n",
       "      <td>0</td>\n",
       "      <td>0.0</td>\n",
       "    </tr>\n",
       "    <tr>\n",
       "      <th>poutcome</th>\n",
       "      <td>0</td>\n",
       "      <td>0.0</td>\n",
       "    </tr>\n",
       "    <tr>\n",
       "      <th>emp.var.rate</th>\n",
       "      <td>0</td>\n",
       "      <td>0.0</td>\n",
       "    </tr>\n",
       "    <tr>\n",
       "      <th>cons.price.idx</th>\n",
       "      <td>0</td>\n",
       "      <td>0.0</td>\n",
       "    </tr>\n",
       "    <tr>\n",
       "      <th>cons.conf.idx</th>\n",
       "      <td>0</td>\n",
       "      <td>0.0</td>\n",
       "    </tr>\n",
       "    <tr>\n",
       "      <th>euribor3m</th>\n",
       "      <td>0</td>\n",
       "      <td>0.0</td>\n",
       "    </tr>\n",
       "    <tr>\n",
       "      <th>nr.employed</th>\n",
       "      <td>0</td>\n",
       "      <td>0.0</td>\n",
       "    </tr>\n",
       "    <tr>\n",
       "      <th>takers</th>\n",
       "      <td>0</td>\n",
       "      <td>0.0</td>\n",
       "    </tr>\n",
       "  </tbody>\n",
       "</table>\n",
       "</div>"
      ],
      "text/plain": [
       "                count_missing  percent_missing (%)\n",
       "age                         0                  0.0\n",
       "job                         0                  0.0\n",
       "marital                     0                  0.0\n",
       "education                   0                  0.0\n",
       "default                     0                  0.0\n",
       "housing                     0                  0.0\n",
       "loan                        0                  0.0\n",
       "contact                     0                  0.0\n",
       "month                       0                  0.0\n",
       "day_of_week                 0                  0.0\n",
       "campaign                    0                  0.0\n",
       "previous                    0                  0.0\n",
       "poutcome                    0                  0.0\n",
       "emp.var.rate                0                  0.0\n",
       "cons.price.idx              0                  0.0\n",
       "cons.conf.idx               0                  0.0\n",
       "euribor3m                   0                  0.0\n",
       "nr.employed                 0                  0.0\n",
       "takers                      0                  0.0"
      ]
     },
     "execution_count": 10,
     "metadata": {},
     "output_type": "execute_result"
    }
   ],
   "source": [
    "# Check Missing Values\n",
    "count_missing = bank.isnull().sum()\n",
    "percent_missing = round(bank.isnull().sum() * 100 / len(bank),2)\n",
    "missing_values_bank = pd.DataFrame({'count_missing' : count_missing,\n",
    "                                   'percent_missing (%)': percent_missing})\n",
    "missing_values_bank"
   ]
  },
  {
   "cell_type": "code",
   "execution_count": 11,
   "metadata": {},
   "outputs": [
    {
     "data": {
      "text/plain": [
       "(37058, 19)"
      ]
     },
     "execution_count": 11,
     "metadata": {},
     "output_type": "execute_result"
    }
   ],
   "source": [
    "bank.shape"
   ]
  },
  {
   "cell_type": "code",
   "execution_count": 12,
   "metadata": {},
   "outputs": [
    {
     "data": {
      "image/png": "[encoded data removed]",
      "text/plain": [
       "<Figure size 432x288 with 1 Axes>"
      ]
     },
     "metadata": {},
     "output_type": "display_data"
    }
   ],
   "source": [
    "# Check the takers proportion\n",
    "sizes = [len(bank[bank['takers']=='yes']), \n",
    "        len(bank[bank['takers']=='no'])\n",
    "        ]\n",
    "labels = ['Yes', 'No']\n",
    "colors = ['gold', 'red']\n",
    "plt.pie(sizes,labels=labels, colors=colors, autopct='%1.1f%%', shadow=True, startangle=140)\n",
    "plt.tight_layout()\n",
    "plt.title(\"Takers Proportion\", bbox={'facecolor':'0.8', 'pad':5})\n",
    "plt.show()\n"
   ]
  },
  {
   "cell_type": "code",
   "execution_count": 13,
   "metadata": {},
   "outputs": [],
   "source": [
    "# Constructing the data\n",
    "\n",
    "# age_group\n",
    "def age_group(data):\n",
    "    if (data['age']<=31):\n",
    "        return \"1\"\n",
    "    elif (data['age']>31 and data['age']<=37):\n",
    "        return \"2\"\n",
    "    elif (data['age']>37 and data['age']<=45):\n",
    "        return \"3\"\n",
    "    else:\n",
    "        return \"4\"\n",
    "\n",
    "# education_regrouping\n",
    "def education_regrouping(data):\n",
    "    if (data['education']=='basic.4y' or data['education']=='basic.6y' or data['education']=='basic.9y' or data['education']=='illiterate'):\n",
    "        return \"Low\"\n",
    "    elif (data['education']=='high.school'):\n",
    "        return \"Middle\"\n",
    "    else:\n",
    "        return \"High\"\n",
    "          \n",
    "# season\n",
    "def quarter(data):\n",
    "    if (data['month']=='jan' or data['month']=='feb' or data['month']=='mar'):\n",
    "        return \"Q1\"\n",
    "    elif (data['month']=='apr' or data['month']=='may' or data['month']=='june'):\n",
    "        return \"Q2\"\n",
    "    elif (data['month']=='july' or data['month']=='aug' or data['month']=='sep'):\n",
    "        return \"Q3\"\n",
    "    else:\n",
    "        return \"Q4\""
   ]
  },
  {
   "cell_type": "code",
   "execution_count": 14,
   "metadata": {},
   "outputs": [
    {
     "data": {
      "text/html": [
       "<div>\n",
       "<style scoped>\n",
       "    .dataframe tbody tr th:only-of-type {\n",
       "        vertical-align: middle;\n",
       "    }\n",
       "\n",
       "    .dataframe tbody tr th {\n",
       "        vertical-align: top;\n",
       "    }\n",
       "\n",
       "    .dataframe thead th {\n",
       "        text-align: right;\n",
       "    }\n",
       "</style>\n",
       "<table border=\"1\" class=\"dataframe\">\n",
       "  <thead>\n",
       "    <tr style=\"text-align: right;\">\n",
       "      <th></th>\n",
       "      <th>age</th>\n",
       "      <th>job</th>\n",
       "      <th>marital</th>\n",
       "      <th>education</th>\n",
       "      <th>default</th>\n",
       "      <th>housing</th>\n",
       "      <th>loan</th>\n",
       "      <th>contact</th>\n",
       "      <th>month</th>\n",
       "      <th>day_of_week</th>\n",
       "      <th>...</th>\n",
       "      <th>poutcome</th>\n",
       "      <th>emp.var.rate</th>\n",
       "      <th>cons.price.idx</th>\n",
       "      <th>cons.conf.idx</th>\n",
       "      <th>euribor3m</th>\n",
       "      <th>nr.employed</th>\n",
       "      <th>takers</th>\n",
       "      <th>age_group</th>\n",
       "      <th>education_regrouping</th>\n",
       "      <th>quarter</th>\n",
       "    </tr>\n",
       "  </thead>\n",
       "  <tbody>\n",
       "    <tr>\n",
       "      <th>0</th>\n",
       "      <td>56</td>\n",
       "      <td>housemaid</td>\n",
       "      <td>married</td>\n",
       "      <td>basic.4y</td>\n",
       "      <td>no</td>\n",
       "      <td>no</td>\n",
       "      <td>no</td>\n",
       "      <td>telephone</td>\n",
       "      <td>may</td>\n",
       "      <td>mon</td>\n",
       "      <td>...</td>\n",
       "      <td>nonexistent</td>\n",
       "      <td>0.042361</td>\n",
       "      <td>93994.0</td>\n",
       "      <td>-36.4</td>\n",
       "      <td>4857.0</td>\n",
       "      <td>5191.0</td>\n",
       "      <td>no</td>\n",
       "      <td>4</td>\n",
       "      <td>Low</td>\n",
       "      <td>Q2</td>\n",
       "    </tr>\n",
       "    <tr>\n",
       "      <th>1</th>\n",
       "      <td>57</td>\n",
       "      <td>services</td>\n",
       "      <td>married</td>\n",
       "      <td>high.school</td>\n",
       "      <td>unknown</td>\n",
       "      <td>no</td>\n",
       "      <td>no</td>\n",
       "      <td>telephone</td>\n",
       "      <td>may</td>\n",
       "      <td>mon</td>\n",
       "      <td>...</td>\n",
       "      <td>nonexistent</td>\n",
       "      <td>0.042361</td>\n",
       "      <td>93994.0</td>\n",
       "      <td>-36.4</td>\n",
       "      <td>4857.0</td>\n",
       "      <td>5191.0</td>\n",
       "      <td>no</td>\n",
       "      <td>4</td>\n",
       "      <td>Middle</td>\n",
       "      <td>Q2</td>\n",
       "    </tr>\n",
       "    <tr>\n",
       "      <th>2</th>\n",
       "      <td>37</td>\n",
       "      <td>services</td>\n",
       "      <td>married</td>\n",
       "      <td>high.school</td>\n",
       "      <td>no</td>\n",
       "      <td>yes</td>\n",
       "      <td>no</td>\n",
       "      <td>telephone</td>\n",
       "      <td>may</td>\n",
       "      <td>mon</td>\n",
       "      <td>...</td>\n",
       "      <td>nonexistent</td>\n",
       "      <td>0.042361</td>\n",
       "      <td>93994.0</td>\n",
       "      <td>-36.4</td>\n",
       "      <td>4857.0</td>\n",
       "      <td>5191.0</td>\n",
       "      <td>no</td>\n",
       "      <td>2</td>\n",
       "      <td>Middle</td>\n",
       "      <td>Q2</td>\n",
       "    </tr>\n",
       "    <tr>\n",
       "      <th>3</th>\n",
       "      <td>40</td>\n",
       "      <td>admin.</td>\n",
       "      <td>married</td>\n",
       "      <td>basic.6y</td>\n",
       "      <td>no</td>\n",
       "      <td>no</td>\n",
       "      <td>no</td>\n",
       "      <td>telephone</td>\n",
       "      <td>may</td>\n",
       "      <td>mon</td>\n",
       "      <td>...</td>\n",
       "      <td>nonexistent</td>\n",
       "      <td>0.042361</td>\n",
       "      <td>93994.0</td>\n",
       "      <td>-36.4</td>\n",
       "      <td>4857.0</td>\n",
       "      <td>5191.0</td>\n",
       "      <td>no</td>\n",
       "      <td>3</td>\n",
       "      <td>Low</td>\n",
       "      <td>Q2</td>\n",
       "    </tr>\n",
       "    <tr>\n",
       "      <th>4</th>\n",
       "      <td>56</td>\n",
       "      <td>services</td>\n",
       "      <td>married</td>\n",
       "      <td>high.school</td>\n",
       "      <td>no</td>\n",
       "      <td>no</td>\n",
       "      <td>yes</td>\n",
       "      <td>telephone</td>\n",
       "      <td>may</td>\n",
       "      <td>mon</td>\n",
       "      <td>...</td>\n",
       "      <td>nonexistent</td>\n",
       "      <td>0.042361</td>\n",
       "      <td>93994.0</td>\n",
       "      <td>-36.4</td>\n",
       "      <td>4857.0</td>\n",
       "      <td>5191.0</td>\n",
       "      <td>no</td>\n",
       "      <td>4</td>\n",
       "      <td>Middle</td>\n",
       "      <td>Q2</td>\n",
       "    </tr>\n",
       "  </tbody>\n",
       "</table>\n",
       "<p>5 rows × 22 columns</p>\n",
       "</div>"
      ],
      "text/plain": [
       "   age        job  marital    education  default housing loan    contact  \\\n",
       "0   56  housemaid  married     basic.4y       no      no   no  telephone   \n",
       "1   57   services  married  high.school  unknown      no   no  telephone   \n",
       "2   37   services  married  high.school       no     yes   no  telephone   \n",
       "3   40     admin.  married     basic.6y       no      no   no  telephone   \n",
       "4   56   services  married  high.school       no      no  yes  telephone   \n",
       "\n",
       "  month day_of_week   ...       poutcome  emp.var.rate cons.price.idx  \\\n",
       "0   may         mon   ...    nonexistent      0.042361        93994.0   \n",
       "1   may         mon   ...    nonexistent      0.042361        93994.0   \n",
       "2   may         mon   ...    nonexistent      0.042361        93994.0   \n",
       "3   may         mon   ...    nonexistent      0.042361        93994.0   \n",
       "4   may         mon   ...    nonexistent      0.042361        93994.0   \n",
       "\n",
       "   cons.conf.idx  euribor3m  nr.employed  takers  age_group  \\\n",
       "0          -36.4     4857.0       5191.0      no          4   \n",
       "1          -36.4     4857.0       5191.0      no          4   \n",
       "2          -36.4     4857.0       5191.0      no          2   \n",
       "3          -36.4     4857.0       5191.0      no          3   \n",
       "4          -36.4     4857.0       5191.0      no          4   \n",
       "\n",
       "  education_regrouping quarter  \n",
       "0                  Low      Q2  \n",
       "1               Middle      Q2  \n",
       "2               Middle      Q2  \n",
       "3                  Low      Q2  \n",
       "4               Middle      Q2  \n",
       "\n",
       "[5 rows x 22 columns]"
      ]
     },
     "execution_count": 14,
     "metadata": {},
     "output_type": "execute_result"
    }
   ],
   "source": [
    "bank['age_group'] = bank.apply(age_group, axis=1)\n",
    "bank['education_regrouping'] = bank.apply(education_regrouping, axis=1)\n",
    "bank['quarter'] = bank.apply(quarter, axis=1)\n",
    "\n",
    "bank.head()"
   ]
  },
  {
   "cell_type": "code",
   "execution_count": 15,
   "metadata": {
    "scrolled": true
   },
   "outputs": [
    {
     "name": "stdout",
     "output_type": "stream",
     "text": [
      "4    10323\n",
      "2     9648\n",
      "3     8721\n",
      "1     8366\n",
      "Name: age_group, dtype: int64\n",
      "\n",
      "High      16217\n",
      "Low       11884\n",
      "Middle     8957\n",
      "Name: education_regrouping, dtype: int64\n",
      "\n",
      "Q4    15654\n",
      "Q2    14980\n",
      "Q3     5998\n",
      "Q1      426\n",
      "Name: quarter, dtype: int64\n"
     ]
    }
   ],
   "source": [
    "print(bank['age_group'].value_counts())\n",
    "print('')\n",
    "print(bank['education_regrouping'].value_counts())\n",
    "print('')\n",
    "print(bank['quarter'].value_counts())"
   ]
  },
  {
   "cell_type": "code",
   "execution_count": 16,
   "metadata": {},
   "outputs": [],
   "source": [
    "first = ['jan','feb', 'mar', 'apr','may','jun']\n",
    "second = ['jul','aug','sep','oct','nov','dec']\n",
    "bank_jan_jun = bank[bank.month.isin(first)]\n",
    "bank_jul_dec = bank[bank.month.isin(second)]"
   ]
  },
  {
   "cell_type": "code",
   "execution_count": 17,
   "metadata": {},
   "outputs": [
    {
     "name": "stdout",
     "output_type": "stream",
     "text": [
      "(20147, 22)\n",
      "(16911, 22)\n"
     ]
    }
   ],
   "source": [
    "print(bank_jan_jun.shape)\n",
    "print(bank_jul_dec.shape)"
   ]
  },
  {
   "cell_type": "code",
   "execution_count": 18,
   "metadata": {},
   "outputs": [
    {
     "data": {
      "text/plain": [
       "(37058, 22)"
      ]
     },
     "execution_count": 18,
     "metadata": {},
     "output_type": "execute_result"
    }
   ],
   "source": [
    "# Integrate various data sources \n",
    "bank = bank_jan_jun.append(bank_jul_dec)\n",
    "\n",
    "# Check the number of rows and columns\n",
    "bank.shape"
   ]
  },
  {
   "cell_type": "code",
   "execution_count": 19,
   "metadata": {},
   "outputs": [
    {
     "name": "stdout",
     "output_type": "stream",
     "text": [
      "age                       int64\n",
      "job                      object\n",
      "marital                  object\n",
      "education                object\n",
      "default                  object\n",
      "housing                  object\n",
      "loan                     object\n",
      "contact                  object\n",
      "month                    object\n",
      "day_of_week              object\n",
      "campaign                  int64\n",
      "previous                  int64\n",
      "poutcome                 object\n",
      "emp.var.rate            float64\n",
      "cons.price.idx          float64\n",
      "cons.conf.idx           float64\n",
      "euribor3m               float64\n",
      "nr.employed             float64\n",
      "takers                   object\n",
      "age_group                object\n",
      "education_regrouping     object\n",
      "quarter                  object\n",
      "dtype: object\n"
     ]
    }
   ],
   "source": [
    "# Format the data as required\n",
    "\n",
    "# Check the data type\n",
    "print(bank.dtypes)"
   ]
  },
  {
   "cell_type": "code",
   "execution_count": 20,
   "metadata": {
    "scrolled": true
   },
   "outputs": [
    {
     "name": "stdout",
     "output_type": "stream",
     "text": [
      "(37058, 21)\n",
      "(37058,)\n"
     ]
    }
   ],
   "source": [
    "# Put the takers to the last column\n",
    "cols_at_end = ['takers']\n",
    "bank = bank[[c for c in bank if c not in cols_at_end] \n",
    "        + [c for c in cols_at_end if c in bank]]\n",
    "bank.head()\n",
    "\n",
    "# Transform the takers variable into a binary\n",
    "def takers_binary(data):\n",
    "    if (data['takers']=='no'):\n",
    "        return 0\n",
    "    else:\n",
    "        return 1\n",
    "\n",
    "bank['takers'] = bank.apply(takers_binary, axis=1)\n",
    "bank.head()\n",
    "\n",
    "# Separate feature variables (X) and target variable (Y)\n",
    "X = bank.loc[:, bank.columns != 'takers']\n",
    "Y = bank.loc[:,'takers']\n",
    "\n",
    "# Transform categorical features into numeric\n",
    "from sklearn.preprocessing import LabelEncoder\n",
    "X_cat = X.copy()\n",
    "X_cat = X.select_dtypes(include=['object'])\n",
    "X_enc = X_cat.copy()\n",
    "X_enc = X_enc.apply(LabelEncoder().fit_transform)\n",
    "mergedata = X.drop(X_cat.columns, axis=1)\n",
    "\n",
    "# Final data\n",
    "X_final = pd.concat([mergedata,X_enc], axis=1)\n",
    "Y_final = Y.astype('int')\n",
    "print(X_final.shape)\n",
    "print(Y_final.shape)"
   ]
  },
  {
   "cell_type": "markdown",
   "metadata": {},
   "source": [
    "# 4. Data Transformation"
   ]
  },
  {
   "cell_type": "code",
   "execution_count": 21,
   "metadata": {},
   "outputs": [
    {
     "data": {
      "text/plain": [
       "(37058, 18)"
      ]
     },
     "execution_count": 21,
     "metadata": {},
     "output_type": "execute_result"
    }
   ],
   "source": [
    "# Feature Selection \n",
    "\n",
    "# Using Business Logic\n",
    "del X_final['age']\n",
    "del X_final['education']\n",
    "del X_final['month']\n",
    "\n",
    "# Check the number of rows and columns\n",
    "X_final.shape"
   ]
  },
  {
   "cell_type": "code",
   "execution_count": 22,
   "metadata": {},
   "outputs": [
    {
     "name": "stdout",
     "output_type": "stream",
     "text": [
      "Num Features: 15\n",
      "Selected Features: [ True  True  True False  True False False  True  True  True  True  True\n",
      "  True  True  True  True  True  True]\n",
      "Feature Ranking: [1 1 1 4 1 3 2 1 1 1 1 1 1 1 1 1 1 1]\n"
     ]
    },
    {
     "data": {
      "text/plain": [
       "(37058, 15)"
      ]
     },
     "execution_count": 22,
     "metadata": {},
     "output_type": "execute_result"
    }
   ],
   "source": [
    "# Feature Selection \n",
    "\n",
    "# Using RFE with Logistic Regression\n",
    "from sklearn.feature_selection import RFE\n",
    "from sklearn.linear_model import LogisticRegression\n",
    "\n",
    "model = LogisticRegression(solver='lbfgs')\n",
    "rfe = RFE(model, 15)\n",
    "fit = rfe.fit(X_final, Y_final)\n",
    "print(\"Num Features: %d\" % fit.n_features_)\n",
    "print(\"Selected Features: %s\" % fit.support_)\n",
    "print(\"Feature Ranking: %s\" % fit.ranking_)\n",
    "\n",
    "# Remove Unimportant Features Based on the Result\n",
    "X_final = X_final.drop(['cons.price.idx','euribor3m','nr.employed'], axis=1)\n",
    "X_final.shape"
   ]
  },
  {
   "cell_type": "code",
   "execution_count": 23,
   "metadata": {},
   "outputs": [
    {
     "name": "stderr",
     "output_type": "stream",
     "text": [
      "Using TensorFlow backend.\n"
     ]
    },
    {
     "name": "stdout",
     "output_type": "stream",
     "text": [
      "(67298, 15)\n",
      "(67298,)\n"
     ]
    }
   ],
   "source": [
    "# Project the data \n",
    "\n",
    "# Using SMOTE sampling to balance the takers proportion\n",
    "from imblearn.over_sampling import SMOTE\n",
    "\n",
    "sm = SMOTE(random_state=123456, kind='regular')\n",
    "x_smote, y_smote = sm.fit_sample(X_final, Y_final)\n",
    "x_smote = pd.DataFrame(x_smote)\n",
    "x_smote.columns = X_final.columns\n",
    "print(x_smote.shape)\n",
    "print(y_smote.shape)"
   ]
  },
  {
   "cell_type": "code",
   "execution_count": 24,
   "metadata": {},
   "outputs": [
    {
     "data": {
      "image/png": "[encoded data removed]",
      "text/plain": [
       "<Figure size 432x288 with 1 Axes>"
      ]
     },
     "metadata": {},
     "output_type": "display_data"
    }
   ],
   "source": [
    "# Check the takers proportion\n",
    "sizes = [len(y_smote[y_smote==1]), \n",
    "        len(y_smote[y_smote==0])\n",
    "        ]\n",
    "labels = ['Yes', 'No']\n",
    "colors = ['gold', 'red']\n",
    "plt.pie(sizes,labels=labels, colors=colors, autopct='%1.1f%%', shadow=True, startangle=140)\n",
    "plt.tight_layout()\n",
    "plt.title(\"Takers Proportion\", bbox={'facecolor':'0.8', 'pad':5})\n",
    "plt.show()"
   ]
  },
  {
   "cell_type": "markdown",
   "metadata": {},
   "source": [
    "# 7. Data Mining"
   ]
  },
  {
   "cell_type": "code",
   "execution_count": 26,
   "metadata": {},
   "outputs": [
    {
     "name": "stdout",
     "output_type": "stream",
     "text": [
      "(47108, 15)\n",
      "(47108,)\n",
      "(20190, 15)\n",
      "(20190,)\n"
     ]
    }
   ],
   "source": [
    "# Split the data into training and testing\n",
    "from sklearn.model_selection import train_test_split\n",
    "\n",
    "x_train,x_test,y_train,y_test = train_test_split(x_smote, y_smote, test_size=0.30,random_state=123456)\n",
    "print(x_train.shape)\n",
    "print(y_train.shape)\n",
    "print(x_test.shape)\n",
    "print(y_test.shape)"
   ]
  },
  {
   "cell_type": "code",
   "execution_count": 27,
   "metadata": {},
   "outputs": [],
   "source": [
    "# Change the structure data of x_train to matrix and y_train to dataframe\n",
    "x_train_cv = x_train.as_matrix()\n",
    "y_train_cv=pd.DataFrame(y_train)\n",
    "y_train_cv.columns=['takers']\n",
    "y_train_cv.index=range(0,len(y_train_cv))"
   ]
  },
  {
   "cell_type": "markdown",
   "metadata": {},
   "source": [
    "# Phase 1 - Initial Model"
   ]
  },
  {
   "cell_type": "markdown",
   "metadata": {},
   "source": [
    "# Logistic Regression"
   ]
  },
  {
   "cell_type": "code",
   "execution_count": 45,
   "metadata": {},
   "outputs": [
    {
     "name": "stdout",
     "output_type": "stream",
     "text": [
      "Best Accuracy 0.6840027171605672\n",
      "Best Param {'C': 0.033}\n"
     ]
    },
    {
     "data": {
      "text/plain": [
       "RandomizedSearchCV(cv=10, error_score='raise-deprecating',\n",
       "                   estimator=LogisticRegression(C=1.0, class_weight=None,\n",
       "                                                dual=False, fit_intercept=True,\n",
       "                                                intercept_scaling=1,\n",
       "                                                l1_ratio=None, max_iter=100,\n",
       "                                                multi_class='warn', n_jobs=None,\n",
       "                                                penalty='l2', random_state=None,\n",
       "                                                solver='warn', tol=0.0001,\n",
       "                                                verbose=0, warm_start=False),\n",
       "                   iid='warn', n_iter=10, n_jobs=2,\n",
       "                   param_distributions={'C': [10, 3.33, 0.1, 0.033]},\n",
       "                   pre_dispatch='2*n_jobs', random_state=123, refit=True,\n",
       "                   return_train_score=False, scoring=None, verbose=0)"
      ]
     },
     "execution_count": 45,
     "metadata": {},
     "output_type": "execute_result"
    }
   ],
   "source": [
    "# Build the model\n",
    "from sklearn.model_selection import RandomizedSearchCV\n",
    "from sklearn.linear_model import LogisticRegression\n",
    "\n",
    "def logreg_fit(x_train, y_train):\n",
    "    logreg = LogisticRegression()\n",
    "\n",
    "    hyperparam = {'C': [10, 3.33, 0.1, 0.033]}\n",
    "\n",
    "    random_logreg = RandomizedSearchCV(logreg, param_distributions = hyperparam, cv = 10,\n",
    "                                    n_iter = 10, n_jobs=2, random_state = 123)\n",
    "    \n",
    "    random_logreg.fit(x_train, y_train)\n",
    "    \n",
    "    print (\"Best Accuracy\", random_logreg.best_score_)\n",
    "    print (\"Best Param\", random_logreg.best_params_)\n",
    "    \n",
    "    return random_logreg\n",
    "\n",
    "best_logreg = logreg_fit(x_train_cv, y_train_cv)\n",
    "best_logreg"
   ]
  },
  {
   "cell_type": "code",
   "execution_count": 46,
   "metadata": {},
   "outputs": [
    {
     "name": "stdout",
     "output_type": "stream",
     "text": [
      "Confusion Matrix - Training : \n",
      "\n",
      "[[17737  5791]\n",
      " [ 9073 14507]]\n",
      "\n",
      "Confusion Matrix - Testing : \n",
      "\n",
      "[[7590 2531]\n",
      " [3914 6155]]\n",
      "\n",
      "Accuracy - Training :  68.44697291330559\n",
      "Accuracy - Testing :  68.07825656265479\n"
     ]
    }
   ],
   "source": [
    "# Confusion Matrix \n",
    "from sklearn import metrics\n",
    "\n",
    "conf_matrix_LR_Train=metrics.confusion_matrix(y_train_cv, best_logreg.predict(x_train_cv))\n",
    "conf_matrix_LR_Test=metrics.confusion_matrix(y_test, best_logreg.predict(x_test))\n",
    "print(\"Confusion Matrix - Training : \")\n",
    "print(\"\")\n",
    "print(conf_matrix_LR_Train)\n",
    "print(\"\")\n",
    "print(\"Confusion Matrix - Testing : \")\n",
    "print(\"\")\n",
    "print(conf_matrix_LR_Test)\n",
    "\n",
    "# Accuracy of the Model on the Training and Testing Data\n",
    "from sklearn.metrics import accuracy_score\n",
    "pred_logistic_testing = best_logreg.predict(x_test)\n",
    "print(\"\")\n",
    "print(\"Accuracy - Training : \",(conf_matrix_LR_Train[0,0]+conf_matrix_LR_Train[1,1])/\n",
    "                                (conf_matrix_LR_Train[0,0]+conf_matrix_LR_Train[0,1]+\n",
    "                                conf_matrix_LR_Train[1,0]+conf_matrix_LR_Train[1,1])*100)\n",
    "print(\"Accuracy - Testing : \",accuracy_score(y_test, pred_logistic_testing)*100)"
   ]
  },
  {
   "cell_type": "code",
   "execution_count": 47,
   "metadata": {},
   "outputs": [
    {
     "name": "stdout",
     "output_type": "stream",
     "text": [
      "0.684546249407704\n",
      "0.6806040248969198\n"
     ]
    },
    {
     "data": {
      "image/png": "[encoded data removed]",
      "text/plain": [
       "<Figure size 432x288 with 1 Axes>"
      ]
     },
     "metadata": {
      "needs_background": "light"
     },
     "output_type": "display_data"
    }
   ],
   "source": [
    "# ROC Curve\n",
    "from sklearn.metrics import roc_auc_score\n",
    "from sklearn.metrics import roc_curve\n",
    "\n",
    "logit_roc_auc_hp_train = roc_auc_score(y_train_cv, best_logreg.predict(x_train_cv))\n",
    "logit_roc_auc_hp_test = roc_auc_score(y_test, best_logreg.predict(x_test))\n",
    "print(logit_roc_auc_hp_train)\n",
    "print(logit_roc_auc_hp_test)\n",
    "fpr_hp1, tpr_hp1, thresholds = roc_curve(y_train_cv, best_logreg.predict_proba(x_train_cv)[:,1])\n",
    "fpr_hp2, tpr_hp2, thresholds = roc_curve(y_test, best_logreg.predict_proba(x_test)[:,1])\n",
    "plt.figure()\n",
    "plt.plot(fpr_hp1, tpr_hp1, label='Training Data = %0.2f)' % logit_roc_auc_hp_train)\n",
    "plt.plot(fpr_hp2, tpr_hp2, label='Testing Data = %0.2f)' % logit_roc_auc_hp_test)\n",
    "plt.plot([0, 1], [0, 1],'r--')\n",
    "plt.xlim([0.0, 1.0])\n",
    "plt.ylim([0.0, 1.05])\n",
    "plt.xlabel('False Positive Rate')\n",
    "plt.ylabel('True Positive Rate')\n",
    "plt.title('Receiver operating characteristic')\n",
    "plt.legend(loc=\"lower right\")\n",
    "plt.show()"
   ]
  },
  {
   "cell_type": "markdown",
   "metadata": {},
   "source": [
    "# Decision Tree"
   ]
  },
  {
   "cell_type": "code",
   "execution_count": 49,
   "metadata": {},
   "outputs": [
    {
     "name": "stdout",
     "output_type": "stream",
     "text": [
      "Best Accuracy 0.7002844527468796\n",
      "Best Param {'min_samples_split': 3, 'max_features': 'sqrt', 'max_depth': 4}\n"
     ]
    },
    {
     "data": {
      "text/plain": [
       "RandomizedSearchCV(cv=10, error_score='raise-deprecating',\n",
       "                   estimator=DecisionTreeClassifier(class_weight=None,\n",
       "                                                    criterion='gini',\n",
       "                                                    max_depth=None,\n",
       "                                                    max_features=None,\n",
       "                                                    max_leaf_nodes=None,\n",
       "                                                    min_impurity_decrease=0.0,\n",
       "                                                    min_impurity_split=None,\n",
       "                                                    min_samples_leaf=1,\n",
       "                                                    min_samples_split=2,\n",
       "                                                    min_weight_fraction_leaf=0.0,\n",
       "                                                    presort=False,\n",
       "                                                    random_state=123,\n",
       "                                                    splitter='best'),\n",
       "                   iid='warn', n_iter=10, n_jobs=2,\n",
       "                   param_distributions={'max_depth': [2, 4],\n",
       "                                        'max_features': ['sqrt', 'log2'],\n",
       "                                        'min_samples_split': [3, 5]},\n",
       "                   pre_dispatch='2*n_jobs', random_state=123, refit=True,\n",
       "                   return_train_score=False, scoring='accuracy', verbose=0)"
      ]
     },
     "execution_count": 49,
     "metadata": {},
     "output_type": "execute_result"
    }
   ],
   "source": [
    "# Build the model\n",
    "from sklearn import tree\n",
    "\n",
    "def dectree_fit(x_train, y_train, scoring = 'accuracy'):\n",
    "    dectree = tree.DecisionTreeClassifier(random_state=123)\n",
    "\n",
    "    hyperparam = {'min_samples_split': [3, 5],\n",
    "                  'max_features': ['sqrt', 'log2'],\n",
    "                  'max_depth': [2, 4]}\n",
    "\n",
    "    random_dectree = RandomizedSearchCV(dectree, \n",
    "                                        param_distributions= hyperparam, \n",
    "                                        cv = 10, n_iter = 10, \n",
    "                                        scoring = scoring, n_jobs=2, random_state = 123)\n",
    "    \n",
    "    random_dectree.fit(x_train, y_train)\n",
    "    \n",
    "    print (\"Best Accuracy\", random_dectree.best_score_)\n",
    "    print (\"Best Param\", random_dectree.best_params_)\n",
    "    \n",
    "    return random_dectree\n",
    "best_dectree = dectree_fit(x_train_cv, y_train_cv)\n",
    "best_dectree"
   ]
  },
  {
   "cell_type": "code",
   "execution_count": 50,
   "metadata": {},
   "outputs": [
    {
     "name": "stdout",
     "output_type": "stream",
     "text": [
      "Confusion Matrix - Training : \n",
      "\n",
      "[[13711  9817]\n",
      " [ 4394 19186]]\n",
      "\n",
      "Confusion Matrix - Testing : \n",
      "\n",
      "[[5852 4269]\n",
      " [1869 8200]]\n",
      "\n",
      "Accuracy - Training :  69.83314935891994\n",
      "Accuracy - Testing :  69.59881129271916\n"
     ]
    }
   ],
   "source": [
    "# Confusion Matrix \n",
    "conf_matrix_DT_Train=metrics.confusion_matrix(y_train_cv, best_dectree.predict(x_train_cv))\n",
    "conf_matrix_DT_Test=metrics.confusion_matrix(y_test, best_dectree.predict(x_test))\n",
    "print(\"Confusion Matrix - Training : \")\n",
    "print(\"\")\n",
    "print(conf_matrix_DT_Train)\n",
    "print(\"\")\n",
    "print(\"Confusion Matrix - Testing : \")\n",
    "print(\"\")\n",
    "print(conf_matrix_DT_Test)\n",
    "\n",
    "# Accuracy of the Model on the Training and Testing Data\n",
    "from sklearn.metrics import accuracy_score\n",
    "pred_dt_testing = best_dectree.predict(x_test)\n",
    "print(\"\")\n",
    "print(\"Accuracy - Training : \",(conf_matrix_DT_Train[0,0]+conf_matrix_DT_Train[1,1])/\n",
    "                                (conf_matrix_DT_Train[0,0]+conf_matrix_DT_Train[0,1]+\n",
    "                                conf_matrix_DT_Train[1,0]+conf_matrix_DT_Train[1,1])*100)\n",
    "print(\"Accuracy - Testing : \",accuracy_score(y_test, pred_dt_testing)*100)"
   ]
  },
  {
   "cell_type": "code",
   "execution_count": 51,
   "metadata": {},
   "outputs": [
    {
     "name": "stdout",
     "output_type": "stream",
     "text": [
      "0.6982040527605532\n",
      "0.6962922537387002\n"
     ]
    },
    {
     "data": {
      "image/png": "[encoded data removed]",
      "text/plain": [
       "<Figure size 432x288 with 1 Axes>"
      ]
     },
     "metadata": {
      "needs_background": "light"
     },
     "output_type": "display_data"
    }
   ],
   "source": [
    "# ROC Curve\n",
    "dt_roc_auc_hp_train = roc_auc_score(y_train_cv, best_dectree.predict(x_train_cv))\n",
    "dt_roc_auc_hp_test = roc_auc_score(y_test, best_dectree.predict(x_test))\n",
    "print(dt_roc_auc_hp_train)\n",
    "print(dt_roc_auc_hp_test)\n",
    "fpr_hp1, tpr_hp1, thresholds = roc_curve(y_train_cv, best_dectree.predict_proba(x_train_cv)[:,1])\n",
    "fpr_hp2, tpr_hp2, thresholds = roc_curve(y_test, best_dectree.predict_proba(x_test)[:,1])\n",
    "plt.figure()\n",
    "plt.plot(fpr_hp1, tpr_hp1, label='Training Data = %0.2f)' % dt_roc_auc_hp_train)\n",
    "plt.plot(fpr_hp2, tpr_hp2, label='Testing Data = %0.2f)' % dt_roc_auc_hp_test)\n",
    "plt.plot([0, 1], [0, 1],'r--')\n",
    "plt.xlim([0.0, 1.0])\n",
    "plt.ylim([0.0, 1.05])\n",
    "plt.xlabel('False Positive Rate')\n",
    "plt.ylabel('True Positive Rate')\n",
    "plt.title('Receiver operating characteristic')\n",
    "plt.legend(loc=\"lower right\")\n",
    "plt.show()"
   ]
  },
  {
   "cell_type": "markdown",
   "metadata": {},
   "source": [
    "# Random Forest"
   ]
  },
  {
   "cell_type": "code",
   "execution_count": 68,
   "metadata": {
    "scrolled": true
   },
   "outputs": [
    {
     "name": "stdout",
     "output_type": "stream",
     "text": [
      "Best Accuracy 0.8049588180351532\n",
      "Best Param {'n_estimators': 30, 'min_samples_split': 7, 'max_features': 'sqrt', 'max_depth': 5}\n"
     ]
    },
    {
     "data": {
      "text/plain": [
       "RandomizedSearchCV(cv=10, error_score='raise-deprecating',\n",
       "                   estimator=RandomForestClassifier(bootstrap=True,\n",
       "                                                    class_weight=None,\n",
       "                                                    criterion='gini',\n",
       "                                                    max_depth=None,\n",
       "                                                    max_features='auto',\n",
       "                                                    max_leaf_nodes=None,\n",
       "                                                    min_impurity_decrease=0.0,\n",
       "                                                    min_impurity_split=None,\n",
       "                                                    min_samples_leaf=1,\n",
       "                                                    min_samples_split=2,\n",
       "                                                    min_weight_fraction_leaf=0.0,\n",
       "                                                    n_estimators='warn',\n",
       "                                                    n_jobs=None,\n",
       "                                                    oob_score=False,\n",
       "                                                    random_state=123, verbose=0,\n",
       "                                                    warm_start=False),\n",
       "                   iid='warn', n_iter=10, n_jobs=-1,\n",
       "                   param_distributions={'max_depth': [3, 4, 5],\n",
       "                                        'max_features': ['sqrt', 'log2'],\n",
       "                                        'min_samples_split': [3, 5, 7],\n",
       "                                        'n_estimators': [10, 20, 30]},\n",
       "                   pre_dispatch='2*n_jobs', random_state=123, refit=True,\n",
       "                   return_train_score=False, scoring='accuracy', verbose=0)"
      ]
     },
     "execution_count": 68,
     "metadata": {},
     "output_type": "execute_result"
    }
   ],
   "source": [
    "from sklearn.ensemble import RandomForestClassifier\n",
    "\n",
    "def rf_fit(x_train, y_train, scoring = 'accuracy'):\n",
    "    random_forest = RandomForestClassifier(random_state=123)\n",
    "\n",
    "    hyperparam = {'min_samples_split': [3, 5, 7],\n",
    "                  'max_features': ['sqrt', 'log2'], \n",
    "                  'n_estimators': [10, 20, 30],\n",
    "                  'max_depth': [3,4,5]}\n",
    "    \n",
    "    random_rf = RandomizedSearchCV(random_forest, \n",
    "                                             param_distributions = hyperparam,\n",
    "                                             cv = 10, \n",
    "                                             n_iter = 10, \n",
    "                                             scoring = scoring, \n",
    "                                             n_jobs=-1, \n",
    "                                             random_state = 123)\n",
    "    \n",
    "    random_rf.fit(x_train, y_train)\n",
    "    \n",
    "    print(\"Best Accuracy\", random_rf.best_score_)\n",
    "    print(\"Best Param\", random_rf.best_params_)\n",
    "    return random_rf\n",
    "\n",
    "best_rf_1 = rf_fit(x_train_cv, y_train_cv)\n",
    "best_rf_1"
   ]
  },
  {
   "cell_type": "code",
   "execution_count": 69,
   "metadata": {},
   "outputs": [
    {
     "name": "stdout",
     "output_type": "stream",
     "text": [
      "Confusion Matrix - Training : \n",
      "\n",
      "[[19029  4499]\n",
      " [ 5048 18532]]\n",
      "\n",
      "Confusion Matrix - Testing : \n",
      "\n",
      "[[8177 1944]\n",
      " [2175 7894]]\n",
      "\n",
      "Accuracy - Training :  79.73380317568142\n",
      "Accuracy - Testing :  79.59881129271916\n"
     ]
    }
   ],
   "source": [
    "# Confusion Matrix \n",
    "conf_matrix_RF_Train=metrics.confusion_matrix(y_train_cv, best_rf_1.predict(x_train_cv))\n",
    "conf_matrix_RF_Test=metrics.confusion_matrix(y_test, best_rf_1.predict(x_test))\n",
    "print(\"Confusion Matrix - Training : \")\n",
    "print(\"\")\n",
    "print(conf_matrix_RF_Train)\n",
    "print(\"\")\n",
    "print(\"Confusion Matrix - Testing : \")\n",
    "print(\"\")\n",
    "print(conf_matrix_RF_Test)\n",
    "\n",
    "# Accuracy of the Model on the Training and Testing Data\n",
    "from sklearn.metrics import accuracy_score\n",
    "pred_rf_testing = best_rf.predict(x_test)\n",
    "print(\"\")\n",
    "print(\"Accuracy - Training : \",(conf_matrix_RF_Train[0,0]+conf_matrix_RF_Train[1,1])/\n",
    "                                (conf_matrix_RF_Train[0,0]+conf_matrix_RF_Train[0,1]+\n",
    "                                conf_matrix_RF_Train[1,0]+conf_matrix_RF_Train[1,1])*100)\n",
    "print(\"Accuracy - Testing : \",accuracy_score(y_test, pred_rf_testing)*100)"
   ]
  },
  {
   "cell_type": "code",
   "execution_count": 71,
   "metadata": {
    "scrolled": false
   },
   "outputs": [
    {
     "name": "stdout",
     "output_type": "stream",
     "text": [
      "0.7973506491390331\n",
      "0.7959572919781087\n"
     ]
    },
    {
     "data": {
      "image/png": "[encoded data removed]",
      "text/plain": [
       "<Figure size 432x288 with 1 Axes>"
      ]
     },
     "metadata": {
      "needs_background": "light"
     },
     "output_type": "display_data"
    }
   ],
   "source": [
    "# ROC Curve\n",
    "rf_roc_auc_hp_train = roc_auc_score(y_train_cv, best_rf.predict(x_train_cv))\n",
    "rf_roc_auc_hp_test = roc_auc_score(y_test, best_rf_1.predict(x_test))\n",
    "print(rf_roc_auc_hp_train)\n",
    "print(rf_roc_auc_hp_test)\n",
    "fpr_hp1, tpr_hp1, thresholds = roc_curve(y_train_cv, best_rf_1.predict_proba(x_train_cv)[:,1])\n",
    "fpr_hp2, tpr_hp2, thresholds = roc_curve(y_test, best_rf_1.predict_proba(x_test)[:,1])\n",
    "plt.figure()\n",
    "plt.plot(fpr_hp1, tpr_hp1, label='Training Data = %0.2f)' % rf_roc_auc_hp_train)\n",
    "plt.plot(fpr_hp2, tpr_hp2, label='Testing Data = %0.2f)' % rf_roc_auc_hp_test)\n",
    "plt.plot([0, 1], [0, 1],'r--')\n",
    "plt.xlim([0.0, 1.0])\n",
    "plt.ylim([0.0, 1.05])\n",
    "plt.xlabel('False Positive Rate')\n",
    "plt.ylabel('True Positive Rate')\n",
    "plt.title('Receiver operating characteristic')\n",
    "plt.legend(loc=\"lower right\")\n",
    "plt.show()"
   ]
  },
  {
   "cell_type": "markdown",
   "metadata": {},
   "source": [
    "#  Boostrap Aggregating (Bagging)"
   ]
  },
  {
   "cell_type": "code",
   "execution_count": 86,
   "metadata": {},
   "outputs": [
    {
     "name": "stdout",
     "output_type": "stream",
     "text": [
      "Best Accuracy 0.824870510316719\n",
      "Best Param {'n_estimators': 10, 'base_estimator__min_samples_split': 5, 'base_estimator__max_depth': 6}\n"
     ]
    },
    {
     "data": {
      "text/plain": [
       "RandomizedSearchCV(cv=10, error_score='raise-deprecating',\n",
       "                   estimator=BaggingClassifier(base_estimator=DecisionTreeClassifier(class_weight=None,\n",
       "                                                                                     criterion='gini',\n",
       "                                                                                     max_depth=None,\n",
       "                                                                                     max_features=None,\n",
       "                                                                                     max_leaf_nodes=None,\n",
       "                                                                                     min_impurity_decrease=0.0,\n",
       "                                                                                     min_impurity_split=None,\n",
       "                                                                                     min_samples_leaf=1,\n",
       "                                                                                     min_samples_split=2,\n",
       "                                                                                     min_weight_fraction_leaf=0.0,\n",
       "                                                                                     presort=False,\n",
       "                                                                                     random_...\n",
       "                                               max_samples=1.0, n_estimators=10,\n",
       "                                               n_jobs=None, oob_score=False,\n",
       "                                               random_state=123, verbose=0,\n",
       "                                               warm_start=False),\n",
       "                   iid='warn', n_iter=10, n_jobs=2,\n",
       "                   param_distributions={'base_estimator__max_depth': [2, 4, 6],\n",
       "                                        'base_estimator__min_samples_split': [3,\n",
       "                                                                              5,\n",
       "                                                                              7],\n",
       "                                        'n_estimators': [10, 20]},\n",
       "                   pre_dispatch='2*n_jobs', random_state=123, refit=True,\n",
       "                   return_train_score=False, scoring='accuracy', verbose=0)"
      ]
     },
     "execution_count": 86,
     "metadata": {},
     "output_type": "execute_result"
    }
   ],
   "source": [
    "from sklearn.ensemble import BaggingClassifier\n",
    "\n",
    "def bagging_fit(x_train, y_train, scoring = 'accuracy'):\n",
    "    dectree_bagging = tree.DecisionTreeClassifier(random_state=123)\n",
    "    \n",
    "    bagging = BaggingClassifier(base_estimator = dectree_bagging,random_state=123)\n",
    "    \n",
    "    hyperparam = {'base_estimator__min_samples_split': [3, 5, 7],\n",
    "                  'base_estimator__max_depth': [2, 4, 6],\n",
    "                  'n_estimators': [10, 20]}\n",
    "    \n",
    "    random_bagging = RandomizedSearchCV(bagging, \n",
    "                                        param_distributions = hyperparam, \n",
    "                                        cv = 10, \n",
    "                                        n_iter = 10, \n",
    "                                        scoring = scoring,\n",
    "                                        n_jobs = 2, \n",
    "                                        random_state = 123)\n",
    "    \n",
    "    random_bagging.fit(x_train, y_train)\n",
    "    \n",
    "    print(\"Best Accuracy\", random_bagging.best_score_)\n",
    "    print(\"Best Param\", random_bagging.best_params_)\n",
    "    return random_bagging\n",
    "best_bagging_1 = bagging_fit(x_train_cv, y_train_cv)\n",
    "best_bagging_1"
   ]
  },
  {
   "cell_type": "code",
   "execution_count": 87,
   "metadata": {},
   "outputs": [
    {
     "name": "stdout",
     "output_type": "stream",
     "text": [
      "Confusion Matrix - Training : \n",
      "\n",
      "[[21725  1803]\n",
      " [ 6143 17437]]\n",
      "\n",
      "Confusion Matrix - Testing : \n",
      "\n",
      "[[9320  801]\n",
      " [2656 7413]]\n",
      "\n",
      "Accuracy - Training :  83.13237666638364\n",
      "Accuracy - Testing :  82.87766220901437\n"
     ]
    }
   ],
   "source": [
    "# Confusion Matrix \n",
    "conf_matrix_BAGGING_Train=metrics.confusion_matrix(y_train_cv, best_bagging_1.predict(x_train_cv))\n",
    "conf_matrix_BAGGING_Test=metrics.confusion_matrix(y_test, best_bagging_1.predict(x_test))\n",
    "print(\"Confusion Matrix - Training : \")\n",
    "print(\"\")\n",
    "print(conf_matrix_BAGGING_Train)\n",
    "print(\"\")\n",
    "print(\"Confusion Matrix - Testing : \")\n",
    "print(\"\")\n",
    "print(conf_matrix_BAGGING_Test)\n",
    "\n",
    "# Accuracy of the Model on the Training and Testing Data\n",
    "from sklearn.metrics import accuracy_score\n",
    "pred_bagging_testing = best_bagging_1.predict(x_test)\n",
    "print(\"\")\n",
    "print(\"Accuracy - Training : \",(conf_matrix_BAGGING_Train[0,0]+conf_matrix_BAGGING_Train[1,1])/\n",
    "                                (conf_matrix_BAGGING_Train[0,0]+conf_matrix_BAGGING_Train[0,1]+\n",
    "                                conf_matrix_BAGGING_Train[1,0]+conf_matrix_BAGGING_Train[1,1])*100)\n",
    "print(\"Accuracy - Testing : \",accuracy_score(y_test, pred_bagging_testing)*100)"
   ]
  },
  {
   "cell_type": "code",
   "execution_count": 88,
   "metadata": {},
   "outputs": [
    {
     "name": "stdout",
     "output_type": "stream",
     "text": [
      "0.8314252572287502\n",
      "0.8285388521013131\n"
     ]
    },
    {
     "data": {
      "image/png": "[encoded data removed]",
      "text/plain": [
       "<Figure size 432x288 with 1 Axes>"
      ]
     },
     "metadata": {
      "needs_background": "light"
     },
     "output_type": "display_data"
    }
   ],
   "source": [
    "# ROC Curve\n",
    "bagging_roc_auc_hp_train = roc_auc_score(y_train_cv, best_bagging_1.predict(x_train_cv))\n",
    "bagging_roc_auc_hp_test = roc_auc_score(y_test, best_bagging_1.predict(x_test))\n",
    "print(bagging_roc_auc_hp_train)\n",
    "print(bagging_roc_auc_hp_test)\n",
    "fpr_hp1, tpr_hp1, thresholds = roc_curve(y_train_cv, best_bagging_1.predict_proba(x_train_cv)[:,1])\n",
    "fpr_hp2, tpr_hp2, thresholds = roc_curve(y_test, best_bagging_1.predict_proba(x_test)[:,1])\n",
    "plt.figure()\n",
    "plt.plot(fpr_hp1, tpr_hp1, label='Training Data = %0.2f)' % bagging_roc_auc_hp_train)\n",
    "plt.plot(fpr_hp2, tpr_hp2, label='Testing Data = %0.2f)' % bagging_roc_auc_hp_test)\n",
    "plt.plot([0, 1], [0, 1],'r--')\n",
    "plt.xlim([0.0, 1.0])\n",
    "plt.ylim([0.0, 1.05])\n",
    "plt.xlabel('False Positive Rate')\n",
    "plt.ylabel('True Positive Rate')\n",
    "plt.title('Receiver operating characteristic')\n",
    "plt.legend(loc=\"lower right\")\n",
    "plt.show()"
   ]
  },
  {
   "cell_type": "markdown",
   "metadata": {},
   "source": [
    "# Gradient Boosting"
   ]
  },
  {
   "cell_type": "code",
   "execution_count": 56,
   "metadata": {},
   "outputs": [
    {
     "name": "stdout",
     "output_type": "stream",
     "text": [
      "Fitting 10 folds for each of 10 candidates, totalling 100 fits\n"
     ]
    },
    {
     "name": "stderr",
     "output_type": "stream",
     "text": [
      "[Parallel(n_jobs=2)]: Using backend LokyBackend with 2 concurrent workers.\n",
      "[Parallel(n_jobs=2)]: Done  46 tasks      | elapsed:    8.6s\n",
      "[Parallel(n_jobs=2)]: Done 100 out of 100 | elapsed:   17.4s finished\n"
     ]
    },
    {
     "name": "stdout",
     "output_type": "stream",
     "text": [
      "Best Accuracy 0.7677676827715038\n",
      "Best Param {'n_estimators': 30, 'min_samples_split': 9, 'max_features': 'log2', 'learning_rate': 0.01}\n"
     ]
    },
    {
     "data": {
      "text/plain": [
       "RandomizedSearchCV(cv=10, error_score='raise-deprecating',\n",
       "                   estimator=GradientBoostingClassifier(criterion='friedman_mse',\n",
       "                                                        init=None,\n",
       "                                                        learning_rate=0.1,\n",
       "                                                        loss='deviance',\n",
       "                                                        max_depth=3,\n",
       "                                                        max_features=None,\n",
       "                                                        max_leaf_nodes=None,\n",
       "                                                        min_impurity_decrease=0.0,\n",
       "                                                        min_impurity_split=None,\n",
       "                                                        min_samples_leaf=1,\n",
       "                                                        min_samples_split=2,\n",
       "                                                        min_weight_fraction_leaf=0.0,\n",
       "                                                        n_estimators=100,\n",
       "                                                        n_...\n",
       "                                                        subsample=1.0,\n",
       "                                                        tol=0.0001,\n",
       "                                                        validation_fraction=0.1,\n",
       "                                                        verbose=0,\n",
       "                                                        warm_start=False),\n",
       "                   iid='warn', n_iter=10, n_jobs=2,\n",
       "                   param_distributions={'learning_rate': [0.01, 0.015, 0.02],\n",
       "                                        'max_features': ['sqrt', 'log2'],\n",
       "                                        'min_samples_split': [3, 5, 7, 9],\n",
       "                                        'n_estimators': [10, 20, 30]},\n",
       "                   pre_dispatch='2*n_jobs', random_state=123, refit=True,\n",
       "                   return_train_score=False, scoring='accuracy', verbose=True)"
      ]
     },
     "execution_count": 56,
     "metadata": {},
     "output_type": "execute_result"
    }
   ],
   "source": [
    "from sklearn.ensemble import GradientBoostingClassifier\n",
    "\n",
    "def gradientboost_fit(x_train, y_train, scoring = 'accuracy'):\n",
    "    gradient_boost = GradientBoostingClassifier(random_state=123)\n",
    "    \n",
    "    hyperparam = {'min_samples_split': [3, 5, 7, 9],\n",
    "                  'max_features': ['sqrt', 'log2'], \n",
    "                  'n_estimators': [10, 20, 30],\n",
    "                  'learning_rate': [0.01, 0.015, 0.02] }\n",
    "    random_gradientboost = RandomizedSearchCV(gradient_boost, param_distributions = hyperparam, cv = 10,\n",
    "                                          n_iter = 10, scoring = scoring, n_jobs=2, \n",
    "                                          random_state = 123, verbose = True)\n",
    "    random_gradientboost.fit(x_train, y_train)\n",
    "    \n",
    "    print (\"Best Accuracy\", random_gradientboost.best_score_)\n",
    "    print (\"Best Param\", random_gradientboost.best_params_)\n",
    "    return random_gradientboost\n",
    "\n",
    "best_gradientboost = gradientboost_fit(x_train_cv, y_train_cv)\n",
    "best_gradientboost"
   ]
  },
  {
   "cell_type": "code",
   "execution_count": 57,
   "metadata": {},
   "outputs": [
    {
     "name": "stdout",
     "output_type": "stream",
     "text": [
      "Confusion Matrix - Training : \n",
      "\n",
      "[[18465  5063]\n",
      " [ 5775 17805]]\n",
      "\n",
      "Confusion Matrix - Testing : \n",
      "\n",
      "[[7930 2191]\n",
      " [2472 7597]]\n",
      "\n",
      "Accuracy - Training :  76.99329200984971\n",
      "Accuracy - Testing :  76.90440812283309\n"
     ]
    }
   ],
   "source": [
    "# Confusion Matrix \n",
    "conf_matrix_GB_Train=metrics.confusion_matrix(y_train_cv, best_gradientboost.predict(x_train_cv))\n",
    "conf_matrix_GB_Test=metrics.confusion_matrix(y_test, best_gradientboost.predict(x_test))\n",
    "print(\"Confusion Matrix - Training : \")\n",
    "print(\"\")\n",
    "print(conf_matrix_GB_Train)\n",
    "print(\"\")\n",
    "print(\"Confusion Matrix - Testing : \")\n",
    "print(\"\")\n",
    "print(conf_matrix_GB_Test)\n",
    "\n",
    "# Accuracy of the Model on the Training and Testing Data\n",
    "from sklearn.metrics import accuracy_score\n",
    "pred_gb_testing = best_gradientboost.predict(x_test)\n",
    "print(\"\")\n",
    "print(\"Accuracy - Training : \",(conf_matrix_GB_Train[0,0]+conf_matrix_GB_Train[1,1])/\n",
    "                                (conf_matrix_GB_Train[0,0]+conf_matrix_GB_Train[0,1]+\n",
    "                                conf_matrix_GB_Train[1,0]+conf_matrix_GB_Train[1,1])*100)\n",
    "print(\"Accuracy - Testing : \",accuracy_score(y_test, pred_gb_testing)*100)"
   ]
  },
  {
   "cell_type": "code",
   "execution_count": 58,
   "metadata": {
    "scrolled": true
   },
   "outputs": [
    {
     "name": "stdout",
     "output_type": "stream",
     "text": [
      "0.7699493235497439\n",
      "0.7690067032682474\n"
     ]
    },
    {
     "data": {
      "image/png": "[encoded data removed]",
      "text/plain": [
       "<Figure size 432x288 with 1 Axes>"
      ]
     },
     "metadata": {
      "needs_background": "light"
     },
     "output_type": "display_data"
    }
   ],
   "source": [
    "# ROC Curve\n",
    "gb_roc_auc_hp_train = roc_auc_score(y_train_cv, best_gradientboost.predict(x_train_cv))\n",
    "gb_roc_auc_hp_test = roc_auc_score(y_test, best_gradientboost.predict(x_test))\n",
    "print(gb_roc_auc_hp_train)\n",
    "print(gb_roc_auc_hp_test)\n",
    "fpr_hp1, tpr_hp1, thresholds = roc_curve(y_train_cv, best_gradientboost.predict_proba(x_train_cv)[:,1])\n",
    "fpr_hp2, tpr_hp2, thresholds = roc_curve(y_test, best_gradientboost.predict_proba(x_test)[:,1])\n",
    "plt.figure()\n",
    "plt.plot(fpr_hp1, tpr_hp1, label='Training Data = %0.2f)' % gb_roc_auc_hp_train)\n",
    "plt.plot(fpr_hp2, tpr_hp2, label='Testing Data = %0.2f)' % gb_roc_auc_hp_test)\n",
    "plt.plot([0, 1], [0, 1],'r--')\n",
    "plt.xlim([0.0, 1.0])\n",
    "plt.ylim([0.0, 1.05])\n",
    "plt.xlabel('False Positive Rate')\n",
    "plt.ylabel('True Positive Rate')\n",
    "plt.title('Receiver operating characteristic')\n",
    "plt.legend(loc=\"lower right\")\n",
    "plt.show()"
   ]
  },
  {
   "cell_type": "markdown",
   "metadata": {},
   "source": [
    "# Feature Importance from the Phase 1 (Random Forest)"
   ]
  },
  {
   "cell_type": "code",
   "execution_count": 66,
   "metadata": {},
   "outputs": [
    {
     "data": {
      "image/png": "[encoded data removed]",
      "text/plain": [
       "<Figure size 432x288 with 1 Axes>"
      ]
     },
     "metadata": {
      "needs_background": "light"
     },
     "output_type": "display_data"
    }
   ],
   "source": [
    "features = list(x_train)\n",
    "importances = best_rf_1.best_estimator_.feature_importances_\n",
    "indices = np.argsort(importances)\n",
    "\n",
    "plt.title('Feature Importances')\n",
    "plt.barh(range(len(indices)), importances[indices], color='b', align='center')\n",
    "plt.yticks(range(len(indices)), [features[i] for i in indices])\n",
    "plt.xlabel('Relative Importance')\n",
    "plt.show()"
   ]
  },
  {
   "cell_type": "markdown",
   "metadata": {},
   "source": [
    "# Phase 2 - Model Hyperparameter Tuning"
   ]
  },
  {
   "cell_type": "markdown",
   "metadata": {},
   "source": [
    "# Random Forest"
   ]
  },
  {
   "cell_type": "code",
   "execution_count": 72,
   "metadata": {},
   "outputs": [
    {
     "name": "stdout",
     "output_type": "stream",
     "text": [
      "Best Accuracy 0.8624862019189946\n",
      "Best Param {'n_estimators': 30, 'min_samples_split': 3, 'max_features': 'sqrt', 'max_depth': 8}\n"
     ]
    },
    {
     "data": {
      "text/plain": [
       "RandomizedSearchCV(cv=10, error_score='raise-deprecating',\n",
       "                   estimator=RandomForestClassifier(bootstrap=True,\n",
       "                                                    class_weight=None,\n",
       "                                                    criterion='gini',\n",
       "                                                    max_depth=None,\n",
       "                                                    max_features='auto',\n",
       "                                                    max_leaf_nodes=None,\n",
       "                                                    min_impurity_decrease=0.0,\n",
       "                                                    min_impurity_split=None,\n",
       "                                                    min_samples_leaf=1,\n",
       "                                                    min_samples_split=2,\n",
       "                                                    min_weight_fraction_leaf=0.0,\n",
       "                                                    n_estimators='warn',\n",
       "                                                    n_jobs=None,\n",
       "                                                    oob_score=False,\n",
       "                                                    random_state=123, verbose=0,\n",
       "                                                    warm_start=False),\n",
       "                   iid='warn', n_iter=10, n_jobs=-1,\n",
       "                   param_distributions={'max_depth': [3, 4, 5, 6, 7, 8],\n",
       "                                        'max_features': ['sqrt', 'log2'],\n",
       "                                        'min_samples_split': [3, 5, 7, 9],\n",
       "                                        'n_estimators': [10, 20, 30, 40, 50,\n",
       "                                                         100, 500]},\n",
       "                   pre_dispatch='2*n_jobs', random_state=123, refit=True,\n",
       "                   return_train_score=False, scoring='accuracy', verbose=0)"
      ]
     },
     "execution_count": 72,
     "metadata": {},
     "output_type": "execute_result"
    }
   ],
   "source": [
    "from sklearn.ensemble import RandomForestClassifier\n",
    "\n",
    "def rf_fit(x_train, y_train, scoring = 'accuracy'):\n",
    "    random_forest = RandomForestClassifier(random_state=123)\n",
    "\n",
    "    hyperparam = {'min_samples_split': [3, 5, 7, 9],\n",
    "                  'max_features': ['sqrt', 'log2'], \n",
    "                  'n_estimators': [10, 20, 30, 40, 50, 100,500],\n",
    "                  'max_depth': [3,4,5,6,7,8]}\n",
    "    \n",
    "    random_rf = RandomizedSearchCV(random_forest, \n",
    "                                             param_distributions = hyperparam,\n",
    "                                             cv = 10, \n",
    "                                             n_iter = 10, \n",
    "                                             scoring = scoring, \n",
    "                                             n_jobs=-1, \n",
    "                                             random_state = 123)\n",
    "    \n",
    "    random_rf.fit(x_train, y_train)\n",
    "    \n",
    "    print(\"Best Accuracy\", random_rf.best_score_)\n",
    "    print(\"Best Param\", random_rf.best_params_)\n",
    "    return random_rf\n",
    "\n",
    "best_rf_2 = rf_fit(x_train_cv, y_train_cv)\n",
    "best_rf_2"
   ]
  },
  {
   "cell_type": "code",
   "execution_count": 73,
   "metadata": {},
   "outputs": [
    {
     "name": "stdout",
     "output_type": "stream",
     "text": [
      "Confusion Matrix - Training : \n",
      "\n",
      "[[20950  2578]\n",
      " [ 3477 20103]]\n",
      "\n",
      "Confusion Matrix - Testing : \n",
      "\n",
      "[[8976 1145]\n",
      " [1524 8545]]\n",
      "\n",
      "Accuracy - Training :  87.14655684809374\n",
      "Accuracy - Testing :  86.7805844477464\n"
     ]
    }
   ],
   "source": [
    "# Confusion Matrix \n",
    "conf_matrix_RF_Train=metrics.confusion_matrix(y_train_cv, best_rf_2.predict(x_train_cv))\n",
    "conf_matrix_RF_Test=metrics.confusion_matrix(y_test, best_rf_2.predict(x_test))\n",
    "print(\"Confusion Matrix - Training : \")\n",
    "print(\"\")\n",
    "print(conf_matrix_RF_Train)\n",
    "print(\"\")\n",
    "print(\"Confusion Matrix - Testing : \")\n",
    "print(\"\")\n",
    "print(conf_matrix_RF_Test)\n",
    "\n",
    "# Accuracy of the Model on the Training and Testing Data\n",
    "from sklearn.metrics import accuracy_score\n",
    "pred_rf_testing = best_rf_2.predict(x_test)\n",
    "print(\"\")\n",
    "print(\"Accuracy - Training : \",(conf_matrix_RF_Train[0,0]+conf_matrix_RF_Train[1,1])/\n",
    "                                (conf_matrix_RF_Train[0,0]+conf_matrix_RF_Train[0,1]+\n",
    "                                conf_matrix_RF_Train[1,0]+conf_matrix_RF_Train[1,1])*100)\n",
    "print(\"Accuracy - Testing : \",accuracy_score(y_test, pred_rf_testing)*100)"
   ]
  },
  {
   "cell_type": "code",
   "execution_count": 74,
   "metadata": {},
   "outputs": [
    {
     "name": "stdout",
     "output_type": "stream",
     "text": [
      "0.8714864774838145\n",
      "0.8677566202156801\n"
     ]
    },
    {
     "data": {
      "image/png": "[encoded data removed]",
      "text/plain": [
       "<Figure size 432x288 with 1 Axes>"
      ]
     },
     "metadata": {
      "needs_background": "light"
     },
     "output_type": "display_data"
    }
   ],
   "source": [
    "# ROC Curve\n",
    "rf_roc_auc_hp_train = roc_auc_score(y_train_cv, best_rf_2.predict(x_train_cv))\n",
    "rf_roc_auc_hp_test = roc_auc_score(y_test, best_rf_2.predict(x_test))\n",
    "print(rf_roc_auc_hp_train)\n",
    "print(rf_roc_auc_hp_test)\n",
    "fpr_hp1, tpr_hp1, thresholds = roc_curve(y_train_cv, best_rf_2.predict_proba(x_train_cv)[:,1])\n",
    "fpr_hp2, tpr_hp2, thresholds = roc_curve(y_test, best_rf_2.predict_proba(x_test)[:,1])\n",
    "plt.figure()\n",
    "plt.plot(fpr_hp1, tpr_hp1, label='Training Data = %0.2f)' % rf_roc_auc_hp_train)\n",
    "plt.plot(fpr_hp2, tpr_hp2, label='Testing Data = %0.2f)' % rf_roc_auc_hp_test)\n",
    "plt.plot([0, 1], [0, 1],'r--')\n",
    "plt.xlim([0.0, 1.0])\n",
    "plt.ylim([0.0, 1.05])\n",
    "plt.xlabel('False Positive Rate')\n",
    "plt.ylabel('True Positive Rate')\n",
    "plt.title('Receiver operating characteristic')\n",
    "plt.legend(loc=\"lower right\")\n",
    "plt.show()"
   ]
  },
  {
   "cell_type": "markdown",
   "metadata": {},
   "source": [
    "#  Boostrap Aggregating (Bagging)"
   ]
  },
  {
   "cell_type": "code",
   "execution_count": 75,
   "metadata": {},
   "outputs": [
    {
     "name": "stdout",
     "output_type": "stream",
     "text": [
      "Best Accuracy 0.8502802071834933\n",
      "Best Param {'n_estimators': 30, 'base_estimator__min_samples_split': 5, 'base_estimator__max_depth': 8}\n"
     ]
    },
    {
     "data": {
      "text/plain": [
       "RandomizedSearchCV(cv=10, error_score='raise-deprecating',\n",
       "                   estimator=BaggingClassifier(base_estimator=DecisionTreeClassifier(class_weight=None,\n",
       "                                                                                     criterion='gini',\n",
       "                                                                                     max_depth=None,\n",
       "                                                                                     max_features=None,\n",
       "                                                                                     max_leaf_nodes=None,\n",
       "                                                                                     min_impurity_decrease=0.0,\n",
       "                                                                                     min_impurity_split=None,\n",
       "                                                                                     min_samples_leaf=1,\n",
       "                                                                                     min_samples_split=2,\n",
       "                                                                                     min_weight_fraction_leaf=0.0,\n",
       "                                                                                     presort=False,\n",
       "                                                                                     random_...\n",
       "                                               max_samples=1.0, n_estimators=10,\n",
       "                                               n_jobs=None, oob_score=False,\n",
       "                                               random_state=123, verbose=0,\n",
       "                                               warm_start=False),\n",
       "                   iid='warn', n_iter=10, n_jobs=2,\n",
       "                   param_distributions={'base_estimator__max_depth': [2, 4, 6,\n",
       "                                                                      8],\n",
       "                                        'base_estimator__min_samples_split': [3,\n",
       "                                                                              5,\n",
       "                                                                              7],\n",
       "                                        'n_estimators': [10, 20, 30]},\n",
       "                   pre_dispatch='2*n_jobs', random_state=123, refit=True,\n",
       "                   return_train_score=False, scoring='accuracy', verbose=0)"
      ]
     },
     "execution_count": 75,
     "metadata": {},
     "output_type": "execute_result"
    }
   ],
   "source": [
    "from sklearn.ensemble import BaggingClassifier\n",
    "\n",
    "def bagging_fit(x_train, y_train, scoring = 'accuracy'):\n",
    "    dectree_bagging = tree.DecisionTreeClassifier(random_state=123)\n",
    "    \n",
    "    bagging = BaggingClassifier(base_estimator = dectree_bagging,random_state=123)\n",
    "    \n",
    "    hyperparam = {'base_estimator__min_samples_split': [3, 5, 7],\n",
    "                  'base_estimator__max_depth': [2, 4, 6, 8],\n",
    "                  'n_estimators': [10, 20, 30]}\n",
    "    \n",
    "    random_bagging = RandomizedSearchCV(bagging, \n",
    "                                        param_distributions = hyperparam, \n",
    "                                        cv = 10, \n",
    "                                        n_iter = 10, \n",
    "                                        scoring = scoring,\n",
    "                                        n_jobs = 2, \n",
    "                                        random_state = 123)\n",
    "    \n",
    "    random_bagging.fit(x_train, y_train)\n",
    "    \n",
    "    print(\"Best Accuracy\", random_bagging.best_score_)\n",
    "    print(\"Best Param\", random_bagging.best_params_)\n",
    "    return random_bagging\n",
    "best_bagging_2 = bagging_fit(x_train_cv, y_train_cv)\n",
    "best_bagging_2"
   ]
  },
  {
   "cell_type": "code",
   "execution_count": 76,
   "metadata": {},
   "outputs": [
    {
     "name": "stdout",
     "output_type": "stream",
     "text": [
      "Confusion Matrix - Training : \n",
      "\n",
      "[[21958  1570]\n",
      " [ 5481 18099]]\n",
      "\n",
      "Confusion Matrix - Testing : \n",
      "\n",
      "[[9403  718]\n",
      " [2395 7674]]\n",
      "\n",
      "Accuracy - Training :  85.03226628173559\n",
      "Accuracy - Testing :  84.58147597820704\n"
     ]
    }
   ],
   "source": [
    "# Confusion Matrix \n",
    "conf_matrix_Bagging_Train=metrics.confusion_matrix(y_train_cv, best_bagging_2.predict(x_train_cv))\n",
    "conf_matrix_Bagging_Test=metrics.confusion_matrix(y_test, best_bagging_2.predict(x_test))\n",
    "print(\"Confusion Matrix - Training : \")\n",
    "print(\"\")\n",
    "print(conf_matrix_Bagging_Train)\n",
    "print(\"\")\n",
    "print(\"Confusion Matrix - Testing : \")\n",
    "print(\"\")\n",
    "print(conf_matrix_Bagging_Test)\n",
    "\n",
    "# Accuracy of the Model on the Training and Testing Data\n",
    "from sklearn.metrics import accuracy_score\n",
    "pred_bagging_testing = best_bagging_2.predict(x_test)\n",
    "print(\"\")\n",
    "print(\"Accuracy - Training : \",(conf_matrix_Bagging_Train[0,0]+conf_matrix_Bagging_Train[1,1])/\n",
    "                                (conf_matrix_Bagging_Train[0,0]+conf_matrix_Bagging_Train[0,1]+\n",
    "                                conf_matrix_Bagging_Train[1,0]+conf_matrix_Bagging_Train[1,1])*100)\n",
    "print(\"Accuracy - Testing : \",accuracy_score(y_test, pred_bagging_testing)*100)"
   ]
  },
  {
   "cell_type": "code",
   "execution_count": 77,
   "metadata": {
    "scrolled": true
   },
   "outputs": [
    {
     "name": "stdout",
     "output_type": "stream",
     "text": [
      "0.8504141240840862\n",
      "0.8455998094915659\n"
     ]
    },
    {
     "data": {
      "image/png": "[encoded data removed]",
      "text/plain": [
       "<Figure size 432x288 with 1 Axes>"
      ]
     },
     "metadata": {
      "needs_background": "light"
     },
     "output_type": "display_data"
    }
   ],
   "source": [
    "# ROC Curve\n",
    "bagging_roc_auc_hp_train = roc_auc_score(y_train_cv, best_bagging_2.predict(x_train_cv))\n",
    "bagging_roc_auc_hp_test = roc_auc_score(y_test, best_bagging_2.predict(x_test))\n",
    "print(bagging_roc_auc_hp_train)\n",
    "print(bagging_roc_auc_hp_test)\n",
    "fpr_hp1, tpr_hp1, thresholds = roc_curve(y_train_cv, best_bagging_2.predict_proba(x_train_cv)[:,1])\n",
    "fpr_hp2, tpr_hp2, thresholds = roc_curve(y_test, best_bagging_2.predict_proba(x_test)[:,1])\n",
    "plt.figure()\n",
    "plt.plot(fpr_hp1, tpr_hp1, label='Training Data = %0.2f)' % bagging_roc_auc_hp_train)\n",
    "plt.plot(fpr_hp2, tpr_hp2, label='Testing Data = %0.2f)' % bagging_roc_auc_hp_test)\n",
    "plt.plot([0, 1], [0, 1],'r--')\n",
    "plt.xlim([0.0, 1.0])\n",
    "plt.ylim([0.0, 1.05])\n",
    "plt.xlabel('False Positive Rate')\n",
    "plt.ylabel('True Positive Rate')\n",
    "plt.title('Receiver operating characteristic')\n",
    "plt.legend(loc=\"lower right\")\n",
    "plt.show()"
   ]
  },
  {
   "cell_type": "markdown",
   "metadata": {},
   "source": [
    "# Feature Importance from the best model in Phase 2 (Random Forest)"
   ]
  },
  {
   "cell_type": "code",
   "execution_count": 78,
   "metadata": {},
   "outputs": [
    {
     "data": {
      "image/png": "[encoded data removed]",
      "text/plain": [
       "<Figure size 432x288 with 1 Axes>"
      ]
     },
     "metadata": {
      "needs_background": "light"
     },
     "output_type": "display_data"
    }
   ],
   "source": [
    "features = list(x_train)\n",
    "importances = best_rf_2.best_estimator_.feature_importances_\n",
    "indices = np.argsort(importances)\n",
    "\n",
    "plt.title('Feature Importances')\n",
    "plt.barh(range(len(indices)), importances[indices], color='b', align='center')\n",
    "plt.yticks(range(len(indices)), [features[i] for i in indices])\n",
    "plt.xlabel('Relative Importance')\n",
    "plt.show()"
   ]
  },
  {
   "cell_type": "markdown",
   "metadata": {},
   "source": [
    "# Interpretation "
   ]
  },
  {
   "cell_type": "code",
   "execution_count": 67,
   "metadata": {},
   "outputs": [],
   "source": [
    "# For deep dive the variable importance -> See the Tableau files"
   ]
  },
  {
   "cell_type": "markdown",
   "metadata": {},
   "source": [
    "# Phase One – Initial Model"
   ]
  },
  {
   "cell_type": "code",
   "execution_count": 28,
   "metadata": {},
   "outputs": [
    {
     "data": {
      "image/png": "[encoded data removed]",
      "text/plain": [
       "<Figure size 432x288 with 1 Axes>"
      ]
     },
     "metadata": {
      "needs_background": "light"
     },
     "output_type": "display_data"
    }
   ],
   "source": [
    "# Lift Chart\n",
    "predicted_probas = best_bagging_1.predict_proba(x_test)\n",
    "import matplotlib.pyplot as plt\n",
    "import scikitplot as skplt\n",
    "skplt.metrics.plot_lift_curve(y_test, predicted_probas)\n",
    "plt.show()"
   ]
  },
  {
   "cell_type": "code",
   "execution_count": 29,
   "metadata": {},
   "outputs": [
    {
     "data": {
      "image/png": "[encoded data removed]",
      "text/plain": [
       "<Figure size 432x288 with 1 Axes>"
      ]
     },
     "metadata": {
      "needs_background": "light"
     },
     "output_type": "display_data"
    }
   ],
   "source": [
    "# Gain Chart\n",
    "predicted_probas = best_bagging_1.predict_proba(x_test)\n",
    "import matplotlib.pyplot as plt\n",
    "import scikitplot as skplt\n",
    "skplt.metrics.plot_cumulative_gain(y_test, predicted_probas)\n",
    "plt.show()"
   ]
  },
  {
   "cell_type": "markdown",
   "metadata": {},
   "source": [
    "# Phase Two – Model Hyperparameter Tuning"
   ]
  },
  {
   "cell_type": "code",
   "execution_count": 81,
   "metadata": {},
   "outputs": [
    {
     "data": {
      "image/png": "[encoded data removed]",
      "text/plain": [
       "<Figure size 432x288 with 1 Axes>"
      ]
     },
     "metadata": {
      "needs_background": "light"
     },
     "output_type": "display_data"
    }
   ],
   "source": [
    "# Lift Chart\n",
    "predicted_probas = best_rf_2.predict_proba(x_test)\n",
    "import matplotlib.pyplot as plt\n",
    "import scikitplot as skplt\n",
    "skplt.metrics.plot_lift_curve(y_test, predicted_probas)\n",
    "plt.show()"
   ]
  },
  {
   "cell_type": "code",
   "execution_count": 82,
   "metadata": {},
   "outputs": [
    {
     "data": {
      "image/png": "[encoded data removed]",
      "text/plain": [
       "<Figure size 432x288 with 1 Axes>"
      ]
     },
     "metadata": {
      "needs_background": "light"
     },
     "output_type": "display_data"
    }
   ],
   "source": [
    "# Gain Chart\n",
    "predicted_probas = best_rf_2.predict_proba(x_test)\n",
    "import matplotlib.pyplot as plt\n",
    "import scikitplot as skplt\n",
    "skplt.metrics.plot_cumulative_gain(y_test, predicted_probas)\n",
    "plt.show()"
   ]
  },
  {
   "cell_type": "code",
   "execution_count": 92,
   "metadata": {},
   "outputs": [
    {
     "data": {
      "text/plain": [
       "['best_bagging_2.pkl']"
      ]
     },
     "execution_count": 92,
     "metadata": {},
     "output_type": "execute_result"
    }
   ],
   "source": [
    "# Save the model to local\n",
    "from sklearn.externals import joblib \n",
    "joblib.dump(best_logreg, \"best_logreg.pkl\")\n",
    "joblib.dump(best_dectree, \"best_dectree.pkl\")\n",
    "joblib.dump(best_rf_1, \"best_rf_1.pkl\")\n",
    "joblib.dump(best_bagging_1, \"best_bagging_1.pkl\")\n",
    "joblib.dump(best_gradientboost, \"best_gradientboost.pkl\")\n",
    "joblib.dump(best_rf_2, \"best_rf_2.pkl\")\n",
    "joblib.dump(best_bagging_2, \"best_bagging_2.pkl\")"
   ]
  },
  {
   "cell_type": "code",
   "execution_count": 2,
   "metadata": {},
   "outputs": [
    {
     "name": "stderr",
     "output_type": "stream",
     "text": [
      "/Users/rifkymuharam/anaconda3/envs/Rifky/lib/python3.6/site-packages/sklearn/externals/joblib/__init__.py:15: DeprecationWarning: sklearn.externals.joblib is deprecated in 0.21 and will be removed in 0.23. Please import this functionality directly from joblib, which can be installed with: pip install joblib. If this warning is raised when loading pickled models, you may need to re-serialize those models with scikit-learn 0.21+.\n",
      "  warnings.warn(msg, category=DeprecationWarning)\n"
     ]
    }
   ],
   "source": [
    "# Load the model\n",
    "from sklearn.externals import joblib \n",
    "best_logreg = joblib.load(\"best_logreg.pkl\")\n",
    "best_dectree = joblib.load(\"best_dectree.pkl\")\n",
    "best_rf_1 = joblib.load(\"best_rf_1.pkl\")\n",
    "best_bagging_1 = joblib.load(\"best_bagging_1.pkl\")\n",
    "best_gradientboost = joblib.load(\"best_gradientboost.pkl\")\n",
    "best_rf_2 = joblib.load(\"best_rf_2.pkl\")\n",
    "best_bagging_2 = joblib.load(\"best_bagging_2.pkl\")"
   ]
  },
  {
   "cell_type": "code",
   "execution_count": null,
   "metadata": {},
   "outputs": [],
   "source": []
  },
  {
   "cell_type": "code",
   "execution_count": 1,
   "metadata": {},
   "outputs": [
    {
     "name": "stdout",
     "output_type": "stream",
     "text": [
      "Collecting pandas_profilling\n",
      "\u001b[31m  Could not find a version that satisfies the requirement pandas_profilling (from versions: )\u001b[0m\n",
      "\u001b[31mNo matching distribution found for pandas_profilling\u001b[0m\n"
     ]
    }
   ],
   "source": [
    "!pip install pandas_profilling"
   ]
  },
  {
   "cell_type": "code",
   "execution_count": null,
   "metadata": {},
   "outputs": [],
   "source": [
    "import pandas_profilling\n",
    "\n",
    "profile = bank.profile_report(title = \"Bank Data Description\")\n",
    "profile.to_file(output_file = \"bank_data_description.html\")\n"
   ]
  }
 ],
 "metadata": {
  "kernelspec": {
   "display_name": "Python 3",
   "language": "python",
   "name": "python3"
  },
  "language_info": {
   "codemirror_mode": {
    "name": "ipython",
    "version": 3
   },
   "file_extension": ".py",
   "mimetype": "text/x-python",
   "name": "python",
   "nbconvert_exporter": "python",
   "pygments_lexer": "ipython3",
   "version": "3.6.7"
  }
 },
 "nbformat": 4,
 "nbformat_minor": 2
}
